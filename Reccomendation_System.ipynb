{
  "nbformat": 4,
  "nbformat_minor": 0,
  "metadata": {
    "colab": {
      "provenance": []
    },
    "kernelspec": {
      "name": "python3",
      "display_name": "Python 3"
    },
    "language_info": {
      "name": "python"
    }
  },
  "cells": [
    {
      "cell_type": "markdown",
      "source": [
        "# Data Understanding\n"
      ],
      "metadata": {
        "id": "Ujabk4qlEXoQ"
      }
    },
    {
      "cell_type": "markdown",
      "source": [
        "### Load Dataset"
      ],
      "metadata": {
        "id": "bQKtI_WbEbUI"
      }
    },
    {
      "cell_type": "code",
      "source": [
        "import pandas as pd\n",
        "import numpy as np\n",
        "import ast"
      ],
      "metadata": {
        "id": "_6Fyy786Cmu1"
      },
      "execution_count": 1,
      "outputs": []
    },
    {
      "cell_type": "markdown",
      "source": [
        "- Import Library yang dibutuhkan"
      ],
      "metadata": {
        "id": "FErQajwoPYLl"
      }
    },
    {
      "cell_type": "code",
      "source": [
        "# Reload the datasets\n",
        "credits = pd.read_csv(\"/content/credits.csv\")\n",
        "movies = pd.read_csv(\"/content/movies.csv\")"
      ],
      "metadata": {
        "id": "6zqsOzG6DiJk"
      },
      "execution_count": 2,
      "outputs": []
    },
    {
      "cell_type": "markdown",
      "source": [
        "- Simpan dataset credits ke 'credits'\n",
        "- Simpan dataset movies ke 'movies'"
      ],
      "metadata": {
        "id": "t7no5UTGPd0d"
      }
    },
    {
      "cell_type": "code",
      "source": [
        "credits.info()"
      ],
      "metadata": {
        "colab": {
          "base_uri": "https://localhost:8080/"
        },
        "id": "xCWQaSRvDjpZ",
        "outputId": "8f84746b-757a-4d7d-dd91-827d824d84f8"
      },
      "execution_count": 3,
      "outputs": [
        {
          "output_type": "stream",
          "name": "stdout",
          "text": [
            "<class 'pandas.core.frame.DataFrame'>\n",
            "RangeIndex: 4803 entries, 0 to 4802\n",
            "Data columns (total 4 columns):\n",
            " #   Column    Non-Null Count  Dtype \n",
            "---  ------    --------------  ----- \n",
            " 0   movie_id  4803 non-null   int64 \n",
            " 1   title     4803 non-null   object\n",
            " 2   cast      4803 non-null   object\n",
            " 3   crew      4803 non-null   object\n",
            "dtypes: int64(1), object(3)\n",
            "memory usage: 150.2+ KB\n"
          ]
        }
      ]
    },
    {
      "cell_type": "markdown",
      "source": [
        "- Terdapat 4803 Entries dan 4 Kolom pada dataframe 'credits'\n",
        "- 4 kolom itu adalah movie_id, title, cast, crew\n",
        "- Hanya kolom movie_id yang memiliki tipe data 'int64', selebihnya memiliki tipe data 'object'"
      ],
      "metadata": {
        "id": "VzUC1eFVPrBh"
      }
    },
    {
      "cell_type": "code",
      "source": [
        "credits.head()"
      ],
      "metadata": {
        "colab": {
          "base_uri": "https://localhost:8080/",
          "height": 206
        },
        "id": "3oISPJdOD8vk",
        "outputId": "fa8336e2-21ce-4530-cfc8-53e6d3449441"
      },
      "execution_count": 4,
      "outputs": [
        {
          "output_type": "execute_result",
          "data": {
            "text/plain": [
              "   movie_id                                     title  \\\n",
              "0     19995                                    Avatar   \n",
              "1       285  Pirates of the Caribbean: At World's End   \n",
              "2    206647                                   Spectre   \n",
              "3     49026                     The Dark Knight Rises   \n",
              "4     49529                               John Carter   \n",
              "\n",
              "                                                cast  \\\n",
              "0  [{\"cast_id\": 242, \"character\": \"Jake Sully\", \"...   \n",
              "1  [{\"cast_id\": 4, \"character\": \"Captain Jack Spa...   \n",
              "2  [{\"cast_id\": 1, \"character\": \"James Bond\", \"cr...   \n",
              "3  [{\"cast_id\": 2, \"character\": \"Bruce Wayne / Ba...   \n",
              "4  [{\"cast_id\": 5, \"character\": \"John Carter\", \"c...   \n",
              "\n",
              "                                                crew  \n",
              "0  [{\"credit_id\": \"52fe48009251416c750aca23\", \"de...  \n",
              "1  [{\"credit_id\": \"52fe4232c3a36847f800b579\", \"de...  \n",
              "2  [{\"credit_id\": \"54805967c3a36829b5002c41\", \"de...  \n",
              "3  [{\"credit_id\": \"52fe4781c3a36847f81398c3\", \"de...  \n",
              "4  [{\"credit_id\": \"52fe479ac3a36847f813eaa3\", \"de...  "
            ],
            "text/html": [
              "\n",
              "  <div id=\"df-951889be-f329-4fd7-bf35-0660d6576524\" class=\"colab-df-container\">\n",
              "    <div>\n",
              "<style scoped>\n",
              "    .dataframe tbody tr th:only-of-type {\n",
              "        vertical-align: middle;\n",
              "    }\n",
              "\n",
              "    .dataframe tbody tr th {\n",
              "        vertical-align: top;\n",
              "    }\n",
              "\n",
              "    .dataframe thead th {\n",
              "        text-align: right;\n",
              "    }\n",
              "</style>\n",
              "<table border=\"1\" class=\"dataframe\">\n",
              "  <thead>\n",
              "    <tr style=\"text-align: right;\">\n",
              "      <th></th>\n",
              "      <th>movie_id</th>\n",
              "      <th>title</th>\n",
              "      <th>cast</th>\n",
              "      <th>crew</th>\n",
              "    </tr>\n",
              "  </thead>\n",
              "  <tbody>\n",
              "    <tr>\n",
              "      <th>0</th>\n",
              "      <td>19995</td>\n",
              "      <td>Avatar</td>\n",
              "      <td>[{\"cast_id\": 242, \"character\": \"Jake Sully\", \"...</td>\n",
              "      <td>[{\"credit_id\": \"52fe48009251416c750aca23\", \"de...</td>\n",
              "    </tr>\n",
              "    <tr>\n",
              "      <th>1</th>\n",
              "      <td>285</td>\n",
              "      <td>Pirates of the Caribbean: At World's End</td>\n",
              "      <td>[{\"cast_id\": 4, \"character\": \"Captain Jack Spa...</td>\n",
              "      <td>[{\"credit_id\": \"52fe4232c3a36847f800b579\", \"de...</td>\n",
              "    </tr>\n",
              "    <tr>\n",
              "      <th>2</th>\n",
              "      <td>206647</td>\n",
              "      <td>Spectre</td>\n",
              "      <td>[{\"cast_id\": 1, \"character\": \"James Bond\", \"cr...</td>\n",
              "      <td>[{\"credit_id\": \"54805967c3a36829b5002c41\", \"de...</td>\n",
              "    </tr>\n",
              "    <tr>\n",
              "      <th>3</th>\n",
              "      <td>49026</td>\n",
              "      <td>The Dark Knight Rises</td>\n",
              "      <td>[{\"cast_id\": 2, \"character\": \"Bruce Wayne / Ba...</td>\n",
              "      <td>[{\"credit_id\": \"52fe4781c3a36847f81398c3\", \"de...</td>\n",
              "    </tr>\n",
              "    <tr>\n",
              "      <th>4</th>\n",
              "      <td>49529</td>\n",
              "      <td>John Carter</td>\n",
              "      <td>[{\"cast_id\": 5, \"character\": \"John Carter\", \"c...</td>\n",
              "      <td>[{\"credit_id\": \"52fe479ac3a36847f813eaa3\", \"de...</td>\n",
              "    </tr>\n",
              "  </tbody>\n",
              "</table>\n",
              "</div>\n",
              "    <div class=\"colab-df-buttons\">\n",
              "\n",
              "  <div class=\"colab-df-container\">\n",
              "    <button class=\"colab-df-convert\" onclick=\"convertToInteractive('df-951889be-f329-4fd7-bf35-0660d6576524')\"\n",
              "            title=\"Convert this dataframe to an interactive table.\"\n",
              "            style=\"display:none;\">\n",
              "\n",
              "  <svg xmlns=\"http://www.w3.org/2000/svg\" height=\"24px\" viewBox=\"0 -960 960 960\">\n",
              "    <path d=\"M120-120v-720h720v720H120Zm60-500h600v-160H180v160Zm220 220h160v-160H400v160Zm0 220h160v-160H400v160ZM180-400h160v-160H180v160Zm440 0h160v-160H620v160ZM180-180h160v-160H180v160Zm440 0h160v-160H620v160Z\"/>\n",
              "  </svg>\n",
              "    </button>\n",
              "\n",
              "  <style>\n",
              "    .colab-df-container {\n",
              "      display:flex;\n",
              "      gap: 12px;\n",
              "    }\n",
              "\n",
              "    .colab-df-convert {\n",
              "      background-color: #E8F0FE;\n",
              "      border: none;\n",
              "      border-radius: 50%;\n",
              "      cursor: pointer;\n",
              "      display: none;\n",
              "      fill: #1967D2;\n",
              "      height: 32px;\n",
              "      padding: 0 0 0 0;\n",
              "      width: 32px;\n",
              "    }\n",
              "\n",
              "    .colab-df-convert:hover {\n",
              "      background-color: #E2EBFA;\n",
              "      box-shadow: 0px 1px 2px rgba(60, 64, 67, 0.3), 0px 1px 3px 1px rgba(60, 64, 67, 0.15);\n",
              "      fill: #174EA6;\n",
              "    }\n",
              "\n",
              "    .colab-df-buttons div {\n",
              "      margin-bottom: 4px;\n",
              "    }\n",
              "\n",
              "    [theme=dark] .colab-df-convert {\n",
              "      background-color: #3B4455;\n",
              "      fill: #D2E3FC;\n",
              "    }\n",
              "\n",
              "    [theme=dark] .colab-df-convert:hover {\n",
              "      background-color: #434B5C;\n",
              "      box-shadow: 0px 1px 3px 1px rgba(0, 0, 0, 0.15);\n",
              "      filter: drop-shadow(0px 1px 2px rgba(0, 0, 0, 0.3));\n",
              "      fill: #FFFFFF;\n",
              "    }\n",
              "  </style>\n",
              "\n",
              "    <script>\n",
              "      const buttonEl =\n",
              "        document.querySelector('#df-951889be-f329-4fd7-bf35-0660d6576524 button.colab-df-convert');\n",
              "      buttonEl.style.display =\n",
              "        google.colab.kernel.accessAllowed ? 'block' : 'none';\n",
              "\n",
              "      async function convertToInteractive(key) {\n",
              "        const element = document.querySelector('#df-951889be-f329-4fd7-bf35-0660d6576524');\n",
              "        const dataTable =\n",
              "          await google.colab.kernel.invokeFunction('convertToInteractive',\n",
              "                                                    [key], {});\n",
              "        if (!dataTable) return;\n",
              "\n",
              "        const docLinkHtml = 'Like what you see? Visit the ' +\n",
              "          '<a target=\"_blank\" href=https://colab.research.google.com/notebooks/data_table.ipynb>data table notebook</a>'\n",
              "          + ' to learn more about interactive tables.';\n",
              "        element.innerHTML = '';\n",
              "        dataTable['output_type'] = 'display_data';\n",
              "        await google.colab.output.renderOutput(dataTable, element);\n",
              "        const docLink = document.createElement('div');\n",
              "        docLink.innerHTML = docLinkHtml;\n",
              "        element.appendChild(docLink);\n",
              "      }\n",
              "    </script>\n",
              "  </div>\n",
              "\n",
              "\n",
              "    <div id=\"df-02b888d3-3868-41be-aa64-24df7f2359b1\">\n",
              "      <button class=\"colab-df-quickchart\" onclick=\"quickchart('df-02b888d3-3868-41be-aa64-24df7f2359b1')\"\n",
              "                title=\"Suggest charts\"\n",
              "                style=\"display:none;\">\n",
              "\n",
              "<svg xmlns=\"http://www.w3.org/2000/svg\" height=\"24px\"viewBox=\"0 0 24 24\"\n",
              "     width=\"24px\">\n",
              "    <g>\n",
              "        <path d=\"M19 3H5c-1.1 0-2 .9-2 2v14c0 1.1.9 2 2 2h14c1.1 0 2-.9 2-2V5c0-1.1-.9-2-2-2zM9 17H7v-7h2v7zm4 0h-2V7h2v10zm4 0h-2v-4h2v4z\"/>\n",
              "    </g>\n",
              "</svg>\n",
              "      </button>\n",
              "\n",
              "<style>\n",
              "  .colab-df-quickchart {\n",
              "      --bg-color: #E8F0FE;\n",
              "      --fill-color: #1967D2;\n",
              "      --hover-bg-color: #E2EBFA;\n",
              "      --hover-fill-color: #174EA6;\n",
              "      --disabled-fill-color: #AAA;\n",
              "      --disabled-bg-color: #DDD;\n",
              "  }\n",
              "\n",
              "  [theme=dark] .colab-df-quickchart {\n",
              "      --bg-color: #3B4455;\n",
              "      --fill-color: #D2E3FC;\n",
              "      --hover-bg-color: #434B5C;\n",
              "      --hover-fill-color: #FFFFFF;\n",
              "      --disabled-bg-color: #3B4455;\n",
              "      --disabled-fill-color: #666;\n",
              "  }\n",
              "\n",
              "  .colab-df-quickchart {\n",
              "    background-color: var(--bg-color);\n",
              "    border: none;\n",
              "    border-radius: 50%;\n",
              "    cursor: pointer;\n",
              "    display: none;\n",
              "    fill: var(--fill-color);\n",
              "    height: 32px;\n",
              "    padding: 0;\n",
              "    width: 32px;\n",
              "  }\n",
              "\n",
              "  .colab-df-quickchart:hover {\n",
              "    background-color: var(--hover-bg-color);\n",
              "    box-shadow: 0 1px 2px rgba(60, 64, 67, 0.3), 0 1px 3px 1px rgba(60, 64, 67, 0.15);\n",
              "    fill: var(--button-hover-fill-color);\n",
              "  }\n",
              "\n",
              "  .colab-df-quickchart-complete:disabled,\n",
              "  .colab-df-quickchart-complete:disabled:hover {\n",
              "    background-color: var(--disabled-bg-color);\n",
              "    fill: var(--disabled-fill-color);\n",
              "    box-shadow: none;\n",
              "  }\n",
              "\n",
              "  .colab-df-spinner {\n",
              "    border: 2px solid var(--fill-color);\n",
              "    border-color: transparent;\n",
              "    border-bottom-color: var(--fill-color);\n",
              "    animation:\n",
              "      spin 1s steps(1) infinite;\n",
              "  }\n",
              "\n",
              "  @keyframes spin {\n",
              "    0% {\n",
              "      border-color: transparent;\n",
              "      border-bottom-color: var(--fill-color);\n",
              "      border-left-color: var(--fill-color);\n",
              "    }\n",
              "    20% {\n",
              "      border-color: transparent;\n",
              "      border-left-color: var(--fill-color);\n",
              "      border-top-color: var(--fill-color);\n",
              "    }\n",
              "    30% {\n",
              "      border-color: transparent;\n",
              "      border-left-color: var(--fill-color);\n",
              "      border-top-color: var(--fill-color);\n",
              "      border-right-color: var(--fill-color);\n",
              "    }\n",
              "    40% {\n",
              "      border-color: transparent;\n",
              "      border-right-color: var(--fill-color);\n",
              "      border-top-color: var(--fill-color);\n",
              "    }\n",
              "    60% {\n",
              "      border-color: transparent;\n",
              "      border-right-color: var(--fill-color);\n",
              "    }\n",
              "    80% {\n",
              "      border-color: transparent;\n",
              "      border-right-color: var(--fill-color);\n",
              "      border-bottom-color: var(--fill-color);\n",
              "    }\n",
              "    90% {\n",
              "      border-color: transparent;\n",
              "      border-bottom-color: var(--fill-color);\n",
              "    }\n",
              "  }\n",
              "</style>\n",
              "\n",
              "      <script>\n",
              "        async function quickchart(key) {\n",
              "          const quickchartButtonEl =\n",
              "            document.querySelector('#' + key + ' button');\n",
              "          quickchartButtonEl.disabled = true;  // To prevent multiple clicks.\n",
              "          quickchartButtonEl.classList.add('colab-df-spinner');\n",
              "          try {\n",
              "            const charts = await google.colab.kernel.invokeFunction(\n",
              "                'suggestCharts', [key], {});\n",
              "          } catch (error) {\n",
              "            console.error('Error during call to suggestCharts:', error);\n",
              "          }\n",
              "          quickchartButtonEl.classList.remove('colab-df-spinner');\n",
              "          quickchartButtonEl.classList.add('colab-df-quickchart-complete');\n",
              "        }\n",
              "        (() => {\n",
              "          let quickchartButtonEl =\n",
              "            document.querySelector('#df-02b888d3-3868-41be-aa64-24df7f2359b1 button');\n",
              "          quickchartButtonEl.style.display =\n",
              "            google.colab.kernel.accessAllowed ? 'block' : 'none';\n",
              "        })();\n",
              "      </script>\n",
              "    </div>\n",
              "\n",
              "    </div>\n",
              "  </div>\n"
            ],
            "application/vnd.google.colaboratory.intrinsic+json": {
              "type": "dataframe",
              "variable_name": "credits",
              "summary": "{\n  \"name\": \"credits\",\n  \"rows\": 4803,\n  \"fields\": [\n    {\n      \"column\": \"movie_id\",\n      \"properties\": {\n        \"dtype\": \"number\",\n        \"std\": 88694,\n        \"min\": 5,\n        \"max\": 459488,\n        \"num_unique_values\": 4803,\n        \"samples\": [\n          8427,\n          13006,\n          18041\n        ],\n        \"semantic_type\": \"\",\n        \"description\": \"\"\n      }\n    },\n    {\n      \"column\": \"title\",\n      \"properties\": {\n        \"dtype\": \"string\",\n        \"num_unique_values\": 4800,\n        \"samples\": [\n          \"I Spy\",\n          \"Who's Your Caddy?\",\n          \"Sleepover\"\n        ],\n        \"semantic_type\": \"\",\n        \"description\": \"\"\n      }\n    },\n    {\n      \"column\": \"cast\",\n      \"properties\": {\n        \"dtype\": \"string\",\n        \"num_unique_values\": 4761,\n        \"samples\": [\n          \"[{\\\"cast_id\\\": 1, \\\"character\\\": \\\"Joshua \\\\\\\"Josh\\\\\\\" Baskin\\\", \\\"credit_id\\\": \\\"52fe4349c3a36847f8048ac3\\\", \\\"gender\\\": 2, \\\"id\\\": 31, \\\"name\\\": \\\"Tom Hanks\\\", \\\"order\\\": 0}, {\\\"cast_id\\\": 2, \\\"character\\\": \\\"Susan\\\", \\\"credit_id\\\": \\\"52fe4349c3a36847f8048ac7\\\", \\\"gender\\\": 1, \\\"id\\\": 20, \\\"name\\\": \\\"Elizabeth Perkins\\\", \\\"order\\\": 1}, {\\\"cast_id\\\": 3, \\\"character\\\": \\\"MacMillan\\\", \\\"credit_id\\\": \\\"52fe4349c3a36847f8048acb\\\", \\\"gender\\\": 2, \\\"id\\\": 1162, \\\"name\\\": \\\"Robert Loggia\\\", \\\"order\\\": 2}, {\\\"cast_id\\\": 4, \\\"character\\\": \\\"Paul\\\", \\\"credit_id\\\": \\\"52fe4349c3a36847f8048acf\\\", \\\"gender\\\": 2, \\\"id\\\": 11512, \\\"name\\\": \\\"John Heard\\\", \\\"order\\\": 3}, {\\\"cast_id\\\": 16, \\\"character\\\": \\\"Billy\\\", \\\"credit_id\\\": \\\"52fe4349c3a36847f8048b11\\\", \\\"gender\\\": 2, \\\"id\\\": 57422, \\\"name\\\": \\\"Jared Rushton\\\", \\\"order\\\": 4}, {\\\"cast_id\\\": 17, \\\"character\\\": \\\"Young Josh\\\", \\\"credit_id\\\": \\\"52fe4349c3a36847f8048b15\\\", \\\"gender\\\": 2, \\\"id\\\": 62123, \\\"name\\\": \\\"David Moscow\\\", \\\"order\\\": 5}, {\\\"cast_id\\\": 5, \\\"character\\\": \\\"Scotty Brennen\\\", \\\"credit_id\\\": \\\"52fe4349c3a36847f8048ad3\\\", \\\"gender\\\": 2, \\\"id\\\": 16165, \\\"name\\\": \\\"Jon Lovitz\\\", \\\"order\\\": 6}, {\\\"cast_id\\\": 6, \\\"character\\\": \\\"Mrs. Baskin\\\", \\\"credit_id\\\": \\\"52fe4349c3a36847f8048ad7\\\", \\\"gender\\\": 1, \\\"id\\\": 2167, \\\"name\\\": \\\"Mercedes Ruehl\\\", \\\"order\\\": 7}, {\\\"cast_id\\\": 18, \\\"character\\\": \\\"Mr. Baskin\\\", \\\"credit_id\\\": \\\"52fe4349c3a36847f8048b19\\\", \\\"gender\\\": 2, \\\"id\\\": 143205, \\\"name\\\": \\\"Josh Clark\\\", \\\"order\\\": 8}, {\\\"cast_id\\\": 22, \\\"character\\\": \\\"Gym Teacher\\\", \\\"credit_id\\\": \\\"52fe4349c3a36847f8048b29\\\", \\\"gender\\\": 2, \\\"id\\\": 123728, \\\"name\\\": \\\"Allan Wasserman\\\", \\\"order\\\": 9}, {\\\"cast_id\\\": 19, \\\"character\\\": \\\"Cynthia Benson\\\", \\\"credit_id\\\": \\\"52fe4349c3a36847f8048b1d\\\", \\\"gender\\\": 0, \\\"id\\\": 1073814, \\\"name\\\": \\\"Kimberlee M. Davis\\\", \\\"order\\\": 10}, {\\\"cast_id\\\": 20, \\\"character\\\": \\\"Freddie Benson\\\", \\\"credit_id\\\": \\\"52fe4349c3a36847f8048b21\\\", \\\"gender\\\": 0, \\\"id\\\": 1073816, \\\"name\\\": \\\"Oliver Block\\\", \\\"order\\\": 11}, {\\\"cast_id\\\": 21, \\\"character\\\": \\\"Cynthia's Friend\\\", \\\"credit_id\\\": \\\"52fe4349c3a36847f8048b25\\\", \\\"gender\\\": 0, \\\"id\\\": 80138, \\\"name\\\": \\\"Erika Katz\\\", \\\"order\\\": 12}, {\\\"cast_id\\\": 23, \\\"character\\\": \\\"Derek\\\", \\\"credit_id\\\": \\\"52fe4349c3a36847f8048b2d\\\", \\\"gender\\\": 2, \\\"id\\\": 166788, \\\"name\\\": \\\"Mark Ballou\\\", \\\"order\\\": 13}, {\\\"cast_id\\\": 24, \\\"character\\\": \\\"Ticket Taker\\\", \\\"credit_id\\\": \\\"52fe4349c3a36847f8048b31\\\", \\\"gender\\\": 0, \\\"id\\\": 994134, \\\"name\\\": \\\"Gary Howard Klar\\\", \\\"order\\\": 14}]\",\n          \"[{\\\"cast_id\\\": 3, \\\"character\\\": \\\"Richard O'Connell\\\", \\\"credit_id\\\": \\\"52fe4312c3a36847f8038407\\\", \\\"gender\\\": 2, \\\"id\\\": 18269, \\\"name\\\": \\\"Brendan Fraser\\\", \\\"order\\\": 0}, {\\\"cast_id\\\": 4, \\\"character\\\": \\\"Evelyn Carnahan O'Connell/Princess Nefertiri\\\", \\\"credit_id\\\": \\\"52fe4312c3a36847f803840b\\\", \\\"gender\\\": 1, \\\"id\\\": 3293, \\\"name\\\": \\\"Rachel Weisz\\\", \\\"order\\\": 1}, {\\\"cast_id\\\": 5, \\\"character\\\": \\\"Jonathan Carnahan\\\", \\\"credit_id\\\": \\\"52fe4312c3a36847f803840f\\\", \\\"gender\\\": 2, \\\"id\\\": 10727, \\\"name\\\": \\\"John Hannah\\\", \\\"order\\\": 2}, {\\\"cast_id\\\": 6, \\\"character\\\": \\\"High Priest Imhotep\\\", \\\"credit_id\\\": \\\"52fe4312c3a36847f8038413\\\", \\\"gender\\\": 2, \\\"id\\\": 16743, \\\"name\\\": \\\"Arnold Vosloo\\\", \\\"order\\\": 3}, {\\\"cast_id\\\": 7, \\\"character\\\": \\\"Ardeth Bay\\\", \\\"credit_id\\\": \\\"52fe4312c3a36847f8038417\\\", \\\"gender\\\": 2, \\\"id\\\": 18041, \\\"name\\\": \\\"Oded Fehr\\\", \\\"order\\\": 4}, {\\\"cast_id\\\": 8, \\\"character\\\": \\\"Mathayus the Scorpion King\\\", \\\"credit_id\\\": \\\"52fe4312c3a36847f803841b\\\", \\\"gender\\\": 2, \\\"id\\\": 18918, \\\"name\\\": \\\"Dwayne Johnson\\\", \\\"order\\\": 5}, {\\\"cast_id\\\": 9, \\\"character\\\": \\\"Alexander O'Connell\\\", \\\"credit_id\\\": \\\"52fe4312c3a36847f803841f\\\", \\\"gender\\\": 2, \\\"id\\\": 18919, \\\"name\\\": \\\"Freddie Boath\\\", \\\"order\\\": 6}, {\\\"cast_id\\\": 10, \\\"character\\\": \\\"Meela Nais/Anck Su Namun\\\", \\\"credit_id\\\": \\\"52fe4312c3a36847f8038423\\\", \\\"gender\\\": 1, \\\"id\\\": 18920, \\\"name\\\": \\\"Patricia Vel\\\\u00e1squez\\\", \\\"order\\\": 7}, {\\\"cast_id\\\": 17, \\\"character\\\": \\\"Baltus Hafez\\\", \\\"credit_id\\\": \\\"52fe4312c3a36847f803844b\\\", \\\"gender\\\": 2, \\\"id\\\": 2629, \\\"name\\\": \\\"Alun Armstrong\\\", \\\"order\\\": 8}, {\\\"cast_id\\\": 18, \\\"character\\\": \\\"Lock-Nah\\\", \\\"credit_id\\\": \\\"52fe4312c3a36847f803844f\\\", \\\"gender\\\": 2, \\\"id\\\": 31164, \\\"name\\\": \\\"Adewale Akinnuoye-Agbaje\\\", \\\"order\\\": 9}, {\\\"cast_id\\\": 19, \\\"character\\\": \\\"Izzy Buttons\\\", \\\"credit_id\\\": \\\"52fe4312c3a36847f8038453\\\", \\\"gender\\\": 2, \\\"id\\\": 30316, \\\"name\\\": \\\"Shaun Parkes\\\", \\\"order\\\": 10}, {\\\"cast_id\\\": 20, \\\"character\\\": \\\"Red\\\", \\\"credit_id\\\": \\\"52fe4312c3a36847f8038457\\\", \\\"gender\\\": 0, \\\"id\\\": 25675, \\\"name\\\": \\\"Bruce Byron\\\", \\\"order\\\": 11}, {\\\"cast_id\\\": 21, \\\"character\\\": \\\"Jacques\\\", \\\"credit_id\\\": \\\"52fe4312c3a36847f803845b\\\", \\\"gender\\\": 0, \\\"id\\\": 1010264, \\\"name\\\": \\\"Joe Dixon\\\", \\\"order\\\": 12}, {\\\"cast_id\\\": 22, \\\"character\\\": \\\"Spivey\\\", \\\"credit_id\\\": \\\"52fe4312c3a36847f803845f\\\", \\\"gender\\\": 2, \\\"id\\\": 208211, \\\"name\\\": \\\"Thomas Fisher\\\", \\\"order\\\": 13}, {\\\"cast_id\\\": 23, \\\"character\\\": \\\"Pharaoh Seti I\\\", \\\"credit_id\\\": \\\"52fe4312c3a36847f8038463\\\", \\\"gender\\\": 2, \\\"id\\\": 25808, \\\"name\\\": \\\"Aharon Ipal\\\\u00e9\\\", \\\"order\\\": 14}, {\\\"cast_id\\\": 24, \\\"character\\\": \\\"Shafek\\\", \\\"credit_id\\\": \\\"52fe4312c3a36847f8038467\\\", \\\"gender\\\": 0, \\\"id\\\": 178631, \\\"name\\\": \\\"Quill Roberts\\\", \\\"order\\\": 15}, {\\\"cast_id\\\": 25, \\\"character\\\": \\\"Showgirl with Jonathan\\\", \\\"credit_id\\\": \\\"52fe4312c3a36847f803846b\\\", \\\"gender\\\": 1, \\\"id\\\": 120886, \\\"name\\\": \\\"Donna Air\\\", \\\"order\\\": 16}, {\\\"cast_id\\\": 26, \\\"character\\\": \\\"Mountain of Flesh\\\", \\\"credit_id\\\": \\\"52fe4312c3a36847f803846f\\\", \\\"gender\\\": 0, \\\"id\\\": 1077874, \\\"name\\\": \\\"Trevor Lovell\\\", \\\"order\\\": 17}, {\\\"cast_id\\\": 30, \\\"character\\\": \\\"Spivey\\\", \\\"credit_id\\\": \\\"536222b20e0a2649a900146a\\\", \\\"gender\\\": 0, \\\"id\\\": 27678, \\\"name\\\": \\\"Tom Fisher\\\", \\\"order\\\": 18}]\",\n          \"[{\\\"cast_id\\\": 2, \\\"character\\\": \\\"Donna Keppel\\\", \\\"credit_id\\\": \\\"52fe44b0c3a36847f80a478f\\\", \\\"gender\\\": 1, \\\"id\\\": 29221, \\\"name\\\": \\\"Brittany Snow\\\", \\\"order\\\": 0}, {\\\"cast_id\\\": 3, \\\"character\\\": \\\"Bobby\\\", \\\"credit_id\\\": \\\"52fe44b0c3a36847f80a4793\\\", \\\"gender\\\": 2, \\\"id\\\": 53368, \\\"name\\\": \\\"Scott Porter\\\", \\\"order\\\": 1}, {\\\"cast_id\\\": 4, \\\"character\\\": \\\"Claire\\\", \\\"credit_id\\\": \\\"52fe44b0c3a36847f80a4797\\\", \\\"gender\\\": 1, \\\"id\\\": 55463, \\\"name\\\": \\\"Jessica Stroup\\\", \\\"order\\\": 2}, {\\\"cast_id\\\": 5, \\\"character\\\": \\\"Lisa Hines\\\", \\\"credit_id\\\": \\\"52fe44b0c3a36847f80a479b\\\", \\\"gender\\\": 1, \\\"id\\\": 39556, \\\"name\\\": \\\"Dana Davis\\\", \\\"order\\\": 3}, {\\\"cast_id\\\": 6, \\\"character\\\": \\\"Michael\\\", \\\"credit_id\\\": \\\"52fe44b0c3a36847f80a479f\\\", \\\"gender\\\": 2, \\\"id\\\": 55464, \\\"name\\\": \\\"Kelly Blatz\\\", \\\"order\\\": 4}, {\\\"cast_id\\\": 7, \\\"character\\\": \\\"Ronnie Heflin\\\", \\\"credit_id\\\": \\\"52fe44b0c3a36847f80a47a3\\\", \\\"gender\\\": 2, \\\"id\\\": 53652, \\\"name\\\": \\\"Collins Pennie\\\", \\\"order\\\": 5}, {\\\"cast_id\\\": 8, \\\"character\\\": \\\"Richard Fenton\\\", \\\"credit_id\\\": \\\"52fe44b0c3a36847f80a47a7\\\", \\\"gender\\\": 2, \\\"id\\\": 51670, \\\"name\\\": \\\"Johnathon Schaech\\\", \\\"order\\\": 6}, {\\\"cast_id\\\": 24, \\\"character\\\": \\\"Detective Winn\\\", \\\"credit_id\\\": \\\"52fe44b0c3a36847f80a47f3\\\", \\\"gender\\\": 2, \\\"id\\\": 17605, \\\"name\\\": \\\"Idris Elba\\\", \\\"order\\\": 7}, {\\\"cast_id\\\": 28, \\\"character\\\": \\\"Dr. Elisha Crowe\\\", \\\"credit_id\\\": \\\"52fe44b0c3a36847f80a4809\\\", \\\"gender\\\": 1, \\\"id\\\": 21702, \\\"name\\\": \\\"Ming-Na Wen\\\", \\\"order\\\": 8}, {\\\"cast_id\\\": 29, \\\"character\\\": \\\"Aunt Karen Turner\\\", \\\"credit_id\\\": \\\"52fe44b0c3a36847f80a480d\\\", \\\"gender\\\": 1, \\\"id\\\": 7523, \\\"name\\\": \\\"Jessalyn Gilsig\\\", \\\"order\\\": 9}, {\\\"cast_id\\\": 30, \\\"character\\\": \\\"Rick Leland\\\", \\\"credit_id\\\": \\\"53e94dbc0e0a2654fd000009\\\", \\\"gender\\\": 2, \\\"id\\\": 34502, \\\"name\\\": \\\"Kellan Lutz\\\", \\\"order\\\": 10}, {\\\"cast_id\\\": 31, \\\"character\\\": \\\"Detective Nash\\\", \\\"credit_id\\\": \\\"53e94e36c3a3687ffa00000e\\\", \\\"gender\\\": 2, \\\"id\\\": 5296, \\\"name\\\": \\\"James Ransone\\\", \\\"order\\\": 11}, {\\\"cast_id\\\": 32, \\\"character\\\": \\\"Ms. Waters\\\", \\\"credit_id\\\": \\\"53e94e940e0a2654fd00001e\\\", \\\"gender\\\": 1, \\\"id\\\": 96554, \\\"name\\\": \\\"Mary Mara\\\", \\\"order\\\": 12}, {\\\"cast_id\\\": 33, \\\"character\\\": \\\"Dancer\\\", \\\"credit_id\\\": \\\"56d207d7c3a3681e4400b3de\\\", \\\"gender\\\": 1, \\\"id\\\": 159913, \\\"name\\\": \\\"Allison Kyler\\\", \\\"order\\\": 13}, {\\\"cast_id\\\": 34, \\\"character\\\": \\\"Officer Hicks\\\", \\\"credit_id\\\": \\\"57dd7339925141784a00050e\\\", \\\"gender\\\": 2, \\\"id\\\": 66560, \\\"name\\\": \\\"Craig Susser\\\", \\\"order\\\": 14}, {\\\"cast_id\\\": 43, \\\"character\\\": \\\"Mrs. Hines\\\", \\\"credit_id\\\": \\\"58c7285fc3a3683dd7001c0d\\\", \\\"gender\\\": 0, \\\"id\\\": 155435, \\\"name\\\": \\\"Valeri Ross\\\", \\\"order\\\": 15}, {\\\"cast_id\\\": 44, \\\"character\\\": \\\"Crissy Lynn\\\", \\\"credit_id\\\": \\\"590c3264c3a36801c60092ea\\\", \\\"gender\\\": 1, \\\"id\\\": 115126, \\\"name\\\": \\\"Brianne Davis\\\", \\\"order\\\": 16}, {\\\"cast_id\\\": 45, \\\"character\\\": \\\"Uncle Jack Turner\\\", \\\"credit_id\\\": \\\"590c32f1c3a36801c60093a5\\\", \\\"gender\\\": 2, \\\"id\\\": 57251, \\\"name\\\": \\\"Linden Ashby\\\", \\\"order\\\": 17}, {\\\"cast_id\\\": 46, \\\"character\\\": \\\"April\\\", \\\"credit_id\\\": \\\"590c336c9251415a8b009abc\\\", \\\"gender\\\": 1, \\\"id\\\": 92856, \\\"name\\\": \\\"Jana Kramer\\\", \\\"order\\\": 18}, {\\\"cast_id\\\": 47, \\\"character\\\": \\\"Taylor\\\", \\\"credit_id\\\": \\\"590c33b49251415a67009232\\\", \\\"gender\\\": 1, \\\"id\\\": 88038, \\\"name\\\": \\\"Rachel Specter\\\", \\\"order\\\": 19}, {\\\"cast_id\\\": 48, \\\"character\\\": \\\"Mrs. Keppel\\\", \\\"credit_id\\\": \\\"590c340a9251415a5e0090fa\\\", \\\"gender\\\": 1, \\\"id\\\": 15010, \\\"name\\\": \\\"Lori Heuring\\\", \\\"order\\\": 20}, {\\\"cast_id\\\": 49, \\\"character\\\": \\\"DJ Tyler\\\", \\\"credit_id\\\": \\\"590c3499c3a3680148009300\\\", \\\"gender\\\": 0, \\\"id\\\": 1627987, \\\"name\\\": \\\"Jay Phillips\\\", \\\"order\\\": 21}, {\\\"cast_id\\\": 61, \\\"character\\\": \\\"Bellhop\\\", \\\"credit_id\\\": \\\"590c397a9251415a8b009fca\\\", \\\"gender\\\": 2, \\\"id\\\": 26852, \\\"name\\\": \\\"Joshua Leonard\\\", \\\"order\\\": 22}]\"\n        ],\n        \"semantic_type\": \"\",\n        \"description\": \"\"\n      }\n    },\n    {\n      \"column\": \"crew\",\n      \"properties\": {\n        \"dtype\": \"string\",\n        \"num_unique_values\": 4776,\n        \"samples\": [\n          \"[{\\\"credit_id\\\": \\\"538d82720e0a26670e005e83\\\", \\\"department\\\": \\\"Editing\\\", \\\"gender\\\": 2, \\\"id\\\": 898, \\\"job\\\": \\\"Editor\\\", \\\"name\\\": \\\"Mark Goldblatt\\\"}, {\\\"credit_id\\\": \\\"538d82860e0a266702005de5\\\", \\\"department\\\": \\\"Editing\\\", \\\"gender\\\": 2, \\\"id\\\": 1098, \\\"job\\\": \\\"Editor\\\", \\\"name\\\": \\\"Mark Helfrich\\\"}, {\\\"credit_id\\\": \\\"538d820c0e0a266708006129\\\", \\\"department\\\": \\\"Production\\\", \\\"gender\\\": 0, \\\"id\\\": 2095, \\\"job\\\": \\\"Producer\\\", \\\"name\\\": \\\"Ralph Winter\\\"}, {\\\"credit_id\\\": \\\"538d82d30e0a266712005def\\\", \\\"department\\\": \\\"Production\\\", \\\"gender\\\": 2, \\\"id\\\": 2624, \\\"job\\\": \\\"Casting\\\", \\\"name\\\": \\\"Richard Pagano\\\"}, {\\\"credit_id\\\": \\\"538d82ea0e0a266715005e74\\\", \\\"department\\\": \\\"Art\\\", \\\"gender\\\": 2, \\\"id\\\": 4953, \\\"job\\\": \\\"Production Design\\\", \\\"name\\\": \\\"Ed Verreaux\\\"}, {\\\"credit_id\\\": \\\"538d82ad0e0a26670800614d\\\", \\\"department\\\": \\\"Production\\\", \\\"gender\\\": 1, \\\"id\\\": 5362, \\\"job\\\": \\\"Casting\\\", \\\"name\\\": \\\"Heike Brandstatter\\\"}, {\\\"credit_id\\\": \\\"538d82c00e0a266705005fa2\\\", \\\"department\\\": \\\"Production\\\", \\\"gender\\\": 1, \\\"id\\\": 5363, \\\"job\\\": \\\"Casting\\\", \\\"name\\\": \\\"Coreen Mayrs\\\"}, {\\\"credit_id\\\": \\\"538d845ec3a368713c0047d2\\\", \\\"department\\\": \\\"Costume & Make-Up\\\", \\\"gender\\\": 0, \\\"id\\\": 6924, \\\"job\\\": \\\"Costume Supervisor\\\", \\\"name\\\": \\\"Dan Moore\\\"}, {\\\"credit_id\\\": \\\"538d81ef0e0a266718005cb8\\\", \\\"department\\\": \\\"Production\\\", \\\"gender\\\": 1, \\\"id\\\": 7200, \\\"job\\\": \\\"Producer\\\", \\\"name\\\": \\\"Lauren Shuler Donner\\\"}, {\\\"credit_id\\\": \\\"576710bec3a36806720004b0\\\", \\\"department\\\": \\\"Production\\\", \\\"gender\\\": 2, \\\"id\\\": 7624, \\\"job\\\": \\\"Executive Producer\\\", \\\"name\\\": \\\"Stan Lee\\\"}, {\\\"credit_id\\\": \\\"538d81d80e0a266715005e4d\\\", \\\"department\\\": \\\"Production\\\", \\\"gender\\\": 2, \\\"id\\\": 7626, \\\"job\\\": \\\"Producer\\\", \\\"name\\\": \\\"Avi Arad\\\"}, {\\\"credit_id\\\": \\\"5767101092514165c20000db\\\", \\\"department\\\": \\\"Production\\\", \\\"gender\\\": 2, \\\"id\\\": 10850, \\\"job\\\": \\\"Executive Producer\\\", \\\"name\\\": \\\"Kevin Feige\\\"}, {\\\"credit_id\\\": \\\"538d83ba0e0a26670b005ded\\\", \\\"department\\\": \\\"Costume & Make-Up\\\", \\\"gender\\\": 1, \\\"id\\\": 10970, \\\"job\\\": \\\"Costume Design\\\", \\\"name\\\": \\\"Judianna Makovsky\\\"}, {\\\"credit_id\\\": \\\"538d83620e0a266715005e82\\\", \\\"department\\\": \\\"Art\\\", \\\"gender\\\": 2, \\\"id\\\": 10549, \\\"job\\\": \\\"Art Direction\\\", \\\"name\\\": \\\"Justin Scoppa Jr.\\\"}, {\\\"credit_id\\\": \\\"5626465bc3a3680e0e01704b\\\", \\\"department\\\": \\\"Sound\\\", \\\"gender\\\": 2, \\\"id\\\": 11098, \\\"job\\\": \\\"Original Music Composer\\\", \\\"name\\\": \\\"John Powell\\\"}, {\\\"credit_id\\\": \\\"52fe45ff9251416c910459e1\\\", \\\"department\\\": \\\"Writing\\\", \\\"gender\\\": 2, \\\"id\\\": 11092, \\\"job\\\": \\\"Screenplay\\\", \\\"name\\\": \\\"Simon Kinberg\\\"}, {\\\"credit_id\\\": \\\"56abe4ecc3a3681c47003aa3\\\", \\\"department\\\": \\\"Crew\\\", \\\"gender\\\": 2, \\\"id\\\": 15017, \\\"job\\\": \\\"Makeup Effects\\\", \\\"name\\\": \\\"Bill Corso\\\"}, {\\\"credit_id\\\": \\\"538d82560e0a266705005f94\\\", \\\"department\\\": \\\"Camera\\\", \\\"gender\\\": 2, \\\"id\\\": 11099, \\\"job\\\": \\\"Director of Photography\\\", \\\"name\\\": \\\"Dante Spinotti\\\"}, {\\\"credit_id\\\": \\\"52fe45ff9251416c910459e7\\\", \\\"department\\\": \\\"Writing\\\", \\\"gender\\\": 2, \\\"id\\\": 11011, \\\"job\\\": \\\"Screenplay\\\", \\\"name\\\": \\\"Zak Penn\\\"}, {\\\"credit_id\\\": \\\"52fe45ff9251416c910459db\\\", \\\"department\\\": \\\"Directing\\\", \\\"gender\\\": 2, \\\"id\\\": 11091, \\\"job\\\": \\\"Director\\\", \\\"name\\\": \\\"Brett Ratner\\\"}, {\\\"credit_id\\\": \\\"538d834f0e0a266712005dfe\\\", \\\"department\\\": \\\"Art\\\", \\\"gender\\\": 1, \\\"id\\\": 22061, \\\"job\\\": \\\"Art Direction\\\", \\\"name\\\": \\\"Helen Jarvis\\\"}, {\\\"credit_id\\\": \\\"538d83a50e0a266715005e8b\\\", \\\"department\\\": \\\"Art\\\", \\\"gender\\\": 1, \\\"id\\\": 11021, \\\"job\\\": \\\"Set Decoration\\\", \\\"name\\\": \\\"Elizabeth Wilcox\\\"}, {\\\"credit_id\\\": \\\"538d83220e0a266702005df6\\\", \\\"department\\\": \\\"Art\\\", \\\"gender\\\": 0, \\\"id\\\": 11102, \\\"job\\\": \\\"Art Direction\\\", \\\"name\\\": \\\"Chad S. Frey\\\"}, {\\\"credit_id\\\": \\\"570b8dde9251412c740020d0\\\", \\\"department\\\": \\\"Art\\\", \\\"gender\\\": 0, \\\"id\\\": 46082, \\\"job\\\": \\\"Supervising Art Director\\\", \\\"name\\\": \\\"Geoff Hubbard\\\"}, {\\\"credit_id\\\": \\\"538d83ce0e0a266702005e02\\\", \\\"department\\\": \\\"Costume & Make-Up\\\", \\\"gender\\\": 2, \\\"id\\\": 11106, \\\"job\\\": \\\"Costume Design\\\", \\\"name\\\": \\\"Lisa Tomczeszyn\\\"}, {\\\"credit_id\\\": \\\"560046499251414e4d000197\\\", \\\"department\\\": \\\"Crew\\\", \\\"gender\\\": 0, \\\"id\\\": 113194, \\\"job\\\": \\\"Stunts\\\", \\\"name\\\": \\\"James Bamford\\\"}, {\\\"credit_id\\\": \\\"538d82990e0a266712005de9\\\", \\\"department\\\": \\\"Editing\\\", \\\"gender\\\": 1, \\\"id\\\": 11100, \\\"job\\\": \\\"Editor\\\", \\\"name\\\": \\\"Julia Wong\\\"}, {\\\"credit_id\\\": \\\"57671042c3a36806b3000104\\\", \\\"department\\\": \\\"Production\\\", \\\"gender\\\": 2, \\\"id\\\": 11095, \\\"job\\\": \\\"Co-Producer\\\", \\\"name\\\": \\\"James M. Freitag\\\"}, {\\\"credit_id\\\": \\\"57670fdbc3a3680722000106\\\", \\\"department\\\": \\\"Production\\\", \\\"gender\\\": 2, \\\"id\\\": 11014, \\\"job\\\": \\\"Co-Producer\\\", \\\"name\\\": \\\"Ross Fanger\\\"}, {\\\"credit_id\\\": \\\"538d83750e0a26670b005de5\\\", \\\"department\\\": \\\"Art\\\", \\\"gender\\\": 0, \\\"id\\\": 223991, \\\"job\\\": \\\"Art Direction\\\", \\\"name\\\": \\\"Sandi Tanaka\\\"}, {\\\"credit_id\\\": \\\"576710f192514133c5001213\\\", \\\"department\\\": \\\"Production\\\", \\\"gender\\\": 0, \\\"id\\\": 1182092, \\\"job\\\": \\\"Executive Producer\\\", \\\"name\\\": \\\"John Palermo\\\"}, {\\\"credit_id\\\": \\\"55402d2fc3a3681da0000633\\\", \\\"department\\\": \\\"Visual Effects\\\", \\\"gender\\\": 0, \\\"id\\\": 1395269, \\\"job\\\": \\\"Visual Effects Supervisor\\\", \\\"name\\\": \\\"John Bruno\\\"}, {\\\"credit_id\\\": \\\"563a9ed79251416d520145a0\\\", \\\"department\\\": \\\"Crew\\\", \\\"gender\\\": 0, \\\"id\\\": 1401803, \\\"job\\\": \\\"Digital Effects Supervisor\\\", \\\"name\\\": \\\"Guy Williams\\\"}, {\\\"credit_id\\\": \\\"5767112fc3a3680722000132\\\", \\\"department\\\": \\\"Production\\\", \\\"gender\\\": 0, \\\"id\\\": 1432021, \\\"job\\\": \\\"Co-Producer\\\", \\\"name\\\": \\\"Kurt Williams\\\"}, {\\\"credit_id\\\": \\\"55423048c3a36829e5003bc8\\\", \\\"department\\\": \\\"Crew\\\", \\\"gender\\\": 0, \\\"id\\\": 1447557, \\\"job\\\": \\\"Compositors\\\", \\\"name\\\": \\\"Rachel Wyn Dunn\\\"}, {\\\"credit_id\\\": \\\"552986b4c3a368596e001a79\\\", \\\"department\\\": \\\"Visual Effects\\\", \\\"gender\\\": 0, \\\"id\\\": 1452932, \\\"job\\\": \\\"Animation\\\", \\\"name\\\": \\\"Joel Fletcher\\\"}, {\\\"credit_id\\\": \\\"57670f92925141655a000109\\\", \\\"department\\\": \\\"Production\\\", \\\"gender\\\": 0, \\\"id\\\": 1477146, \\\"job\\\": \\\"Co-Producer\\\", \\\"name\\\": \\\"Lee Cleary\\\"}, {\\\"credit_id\\\": \\\"5767107c925141655a00012c\\\", \\\"department\\\": \\\"Production\\\", \\\"gender\\\": 0, \\\"id\\\": 1477147, \\\"job\\\": \\\"Associate Producer\\\", \\\"name\\\": \\\"David Gorder\\\"}, {\\\"credit_id\\\": \\\"5767105bc3a36850c4000573\\\", \\\"department\\\": \\\"Production\\\", \\\"gender\\\": 2, \\\"id\\\": 1477203, \\\"job\\\": \\\"Associate Producer\\\", \\\"name\\\": \\\"Luca Marco Paracels\\\"}]\",\n          \"[{\\\"credit_id\\\": \\\"58dd0e90c3a368223e00b59c\\\", \\\"department\\\": \\\"Production\\\", \\\"gender\\\": 1, \\\"id\\\": 546, \\\"job\\\": \\\"Casting\\\", \\\"name\\\": \\\"Jeanne McCarthy\\\"}, {\\\"credit_id\\\": \\\"52fe43bb9251416c7501bf83\\\", \\\"department\\\": \\\"Production\\\", \\\"gender\\\": 2, \\\"id\\\": 2043, \\\"job\\\": \\\"Producer\\\", \\\"name\\\": \\\"John Davis\\\"}, {\\\"credit_id\\\": \\\"5539fe35c3a3685cf8002f1e\\\", \\\"department\\\": \\\"Sound\\\", \\\"gender\\\": 2, \\\"id\\\": 3393, \\\"job\\\": \\\"Original Music Composer\\\", \\\"name\\\": \\\"David Newman\\\"}, {\\\"credit_id\\\": \\\"58dd0d3fc3a368228a00aa50\\\", \\\"department\\\": \\\"Production\\\", \\\"gender\\\": 0, \\\"id\\\": 6187, \\\"job\\\": \\\"Associate Producer\\\", \\\"name\\\": \\\"Aldric La'Auli Porter\\\"}, {\\\"credit_id\\\": \\\"5990427f925141672302ba00\\\", \\\"department\\\": \\\"Directing\\\", \\\"gender\\\": 0, \\\"id\\\": 6187, \\\"job\\\": \\\"First Assistant Director\\\", \\\"name\\\": \\\"Aldric La'Auli Porter\\\"}, {\\\"credit_id\\\": \\\"58dd0efdc3a368228300b438\\\", \\\"department\\\": \\\"Art\\\", \\\"gender\\\": 2, \\\"id\\\": 6877, \\\"job\\\": \\\"Production Design\\\", \\\"name\\\": \\\"William Sandell\\\"}, {\\\"credit_id\\\": \\\"58dd0f56925141411000c340\\\", \\\"department\\\": \\\"Art\\\", \\\"gender\\\": 2, \\\"id\\\": 6880, \\\"job\\\": \\\"Set Decoration\\\", \\\"name\\\": \\\"Robert Gould\\\"}, {\\\"credit_id\\\": \\\"58dd0f1fc3a36822a600c1dd\\\", \\\"department\\\": \\\"Art\\\", \\\"gender\\\": 2, \\\"id\\\": 8705, \\\"job\\\": \\\"Art Direction\\\", \\\"name\\\": \\\"Brad Ricker\\\"}, {\\\"credit_id\\\": \\\"5990490b925141673e02d2f5\\\", \\\"department\\\": \\\"Sound\\\", \\\"gender\\\": 0, \\\"id\\\": 8763, \\\"job\\\": \\\"Foley Editor\\\", \\\"name\\\": \\\"Dan Yale\\\"}, {\\\"credit_id\\\": \\\"58dd0d3192514140f600b915\\\", \\\"department\\\": \\\"Production\\\", \\\"gender\\\": 2, \\\"id\\\": 8880, \\\"job\\\": \\\"Executive Producer\\\", \\\"name\\\": \\\"Neil A. Machlis\\\"}, {\\\"credit_id\\\": \\\"58dd0e0bc3a368229300bdf6\\\", \\\"department\\\": \\\"Production\\\", \\\"gender\\\": 1, \\\"id\\\": 14377, \\\"job\\\": \\\"Casting\\\", \\\"name\\\": \\\"Juel Bestrop\\\"}, {\\\"credit_id\\\": \\\"599045b6925141672302bdac\\\", \\\"department\\\": \\\"Art\\\", \\\"gender\\\": 0, \\\"id\\\": 12639, \\\"job\\\": \\\"Set Designer\\\", \\\"name\\\": \\\"Hugo Santiago\\\"}, {\\\"credit_id\\\": \\\"58dd0f69c3a368228300b48f\\\", \\\"department\\\": \\\"Costume & Make-Up\\\", \\\"gender\\\": 1, \\\"id\\\": 15524, \\\"job\\\": \\\"Costume Design\\\", \\\"name\\\": \\\"Ruth E. Carter\\\"}, {\\\"credit_id\\\": \\\"52fe43bb9251416c7501bf9b\\\", \\\"department\\\": \\\"Editing\\\", \\\"gender\\\": 2, \\\"id\\\": 18276, \\\"job\\\": \\\"Editor\\\", \\\"name\\\": \\\"Craig Herring\\\"}, {\\\"credit_id\\\": \\\"58dd0f2f92514140fa00c653\\\", \\\"department\\\": \\\"Art\\\", \\\"gender\\\": 2, \\\"id\\\": 13434, \\\"job\\\": \\\"Supervising Art Director\\\", \\\"name\\\": \\\"Bruce Crone\\\"}, {\\\"credit_id\\\": \\\"59904bcdc3a368744202b9fb\\\", \\\"department\\\": \\\"Visual Effects\\\", \\\"gender\\\": 0, \\\"id\\\": 27100, \\\"job\\\": \\\"Visual Effects Supervisor\\\", \\\"name\\\": \\\"Douglas Smith\\\"}, {\\\"credit_id\\\": \\\"52fe43bb9251416c7501bf7d\\\", \\\"department\\\": \\\"Writing\\\", \\\"gender\\\": 2, \\\"id\\\": 31026, \\\"job\\\": \\\"Screenplay\\\", \\\"name\\\": \\\"Larry Levin\\\"}, {\\\"credit_id\\\": \\\"58dd0c8592514140fa00c441\\\", \\\"department\\\": \\\"Production\\\", \\\"gender\\\": 1, \\\"id\\\": 49907, \\\"job\\\": \\\"Co-Producer\\\", \\\"name\\\": \\\"Michele Imperato\\\"}, {\\\"credit_id\\\": \\\"58dd0fb0c3a368227300bfad\\\", \\\"department\\\": \\\"Production\\\", \\\"gender\\\": 1, \\\"id\\\": 49907, \\\"job\\\": \\\"Unit Production Manager\\\", \\\"name\\\": \\\"Michele Imperato\\\"}, {\\\"credit_id\\\": \\\"52fe43bb9251416c7501bfb1\\\", \\\"department\\\": \\\"Directing\\\", \\\"gender\\\": 2, \\\"id\\\": 52112, \\\"job\\\": \\\"Director\\\", \\\"name\\\": \\\"Steve Carr\\\"}, {\\\"credit_id\\\": \\\"5990471cc3a36874a302bbdc\\\", \\\"department\\\": \\\"Sound\\\", \\\"gender\\\": 2, \\\"id\\\": 52193, \\\"job\\\": \\\"Dialogue Editor\\\", \\\"name\\\": \\\"R.J. Kizer\\\"}, {\\\"credit_id\\\": \\\"52fe43bb9251416c7501bf95\\\", \\\"department\\\": \\\"Camera\\\", \\\"gender\\\": 2, \\\"id\\\": 56324, \\\"job\\\": \\\"Director of Photography\\\", \\\"name\\\": \\\"Daryn Okada\\\"}, {\\\"credit_id\\\": \\\"52fe43bb9251416c7501bf89\\\", \\\"department\\\": \\\"Production\\\", \\\"gender\\\": 2, \\\"id\\\": 56053, \\\"job\\\": \\\"Producer\\\", \\\"name\\\": \\\"Joseph Singer\\\"}, {\\\"credit_id\\\": \\\"59904a06925141676602b701\\\", \\\"department\\\": \\\"Crew\\\", \\\"gender\\\": 2, \\\"id\\\": 57769, \\\"job\\\": \\\"Visual Effects Editor\\\", \\\"name\\\": \\\"Peter S. Elliot\\\"}, {\\\"credit_id\\\": \\\"58dd0d4c92514140fa00c4da\\\", \\\"department\\\": \\\"Production\\\", \\\"gender\\\": 1, \\\"id\\\": 66921, \\\"job\\\": \\\"Co-Producer\\\", \\\"name\\\": \\\"Heidi Santelli\\\"}, {\\\"credit_id\\\": \\\"59905155c3a36874b402a906\\\", \\\"department\\\": \\\"Sound\\\", \\\"gender\\\": 0, \\\"id\\\": 91324, \\\"job\\\": \\\"Music Editor\\\", \\\"name\\\": \\\"Tom Villano\\\"}, {\\\"credit_id\\\": \\\"5990424a925141676602adf3\\\", \\\"department\\\": \\\"Costume & Make-Up\\\", \\\"gender\\\": 0, \\\"id\\\": 168214, \\\"job\\\": \\\"Makeup Artist\\\", \\\"name\\\": \\\"Judy Murdock\\\"}, {\\\"credit_id\\\": \\\"59904eae925141673e02da30\\\", \\\"department\\\": \\\"Camera\\\", \\\"gender\\\": 2, \\\"id\\\": 555085, \\\"job\\\": \\\"Still Photographer\\\", \\\"name\\\": \\\"Bruce McBroom\\\"}, {\\\"credit_id\\\": \\\"599041d0c3a36874a302b5e9\\\", \\\"department\\\": \\\"Costume & Make-Up\\\", \\\"gender\\\": 0, \\\"id\\\": 1015965, \\\"job\\\": \\\"Makeup Department Head\\\", \\\"name\\\": \\\"Kris Evans\\\"}, {\\\"credit_id\\\": \\\"58dd11a2c3a368227300c14b\\\", \\\"department\\\": \\\"Production\\\", \\\"gender\\\": 0, \\\"id\\\": 1113659, \\\"job\\\": \\\"Location Manager\\\", \\\"name\\\": \\\"Iddo Lampton Enochs Jr.\\\"}, {\\\"credit_id\\\": \\\"59904b71925141675f02b7e7\\\", \\\"department\\\": \\\"Crew\\\", \\\"gender\\\": 0, \\\"id\\\": 1178615, \\\"job\\\": \\\"CG Supervisor\\\", \\\"name\\\": \\\"Liz Radley\\\"}, {\\\"credit_id\\\": \\\"59904fe5c3a368744202bf0c\\\", \\\"department\\\": \\\"Costume & Make-Up\\\", \\\"gender\\\": 0, \\\"id\\\": 1319193, \\\"job\\\": \\\"Costume Supervisor\\\", \\\"name\\\": \\\"Donna Marcione Pollack\\\"}, {\\\"credit_id\\\": \\\"599044c4925141672302bc97\\\", \\\"department\\\": \\\"Art\\\", \\\"gender\\\": 0, \\\"id\\\": 1364403, \\\"job\\\": \\\"Greensman\\\", \\\"name\\\": \\\"Frank McEldowney\\\"}, {\\\"credit_id\\\": \\\"59904694925141673e02cfd2\\\", \\\"department\\\": \\\"Sound\\\", \\\"gender\\\": 0, \\\"id\\\": 1367505, \\\"job\\\": \\\"Dialogue Editor\\\", \\\"name\\\": \\\"Ted Caplan\\\"}, {\\\"credit_id\\\": \\\"5990439d925141675902ac1b\\\", \\\"department\\\": \\\"Art\\\", \\\"gender\\\": 0, \\\"id\\\": 1377216, \\\"job\\\": \\\"Art Department Coordinator\\\", \\\"name\\\": \\\"Gerald Lehtola\\\"}, {\\\"credit_id\\\": \\\"599045fb925141675f02b16c\\\", \\\"department\\\": \\\"Art\\\", \\\"gender\\\": 0, \\\"id\\\": 1378165, \\\"job\\\": \\\"Property Master\\\", \\\"name\\\": \\\"Mark Wade\\\"}, {\\\"credit_id\\\": \\\"58dd0fd0c3a368228a00abfb\\\", \\\"department\\\": \\\"Art\\\", \\\"gender\\\": 1, \\\"id\\\": 1378749, \\\"job\\\": \\\"Set Designer\\\", \\\"name\\\": \\\"Patricia Klawonn\\\"}, {\\\"credit_id\\\": \\\"58dd1023c3a368227300c025\\\", \\\"department\\\": \\\"Art\\\", \\\"gender\\\": 0, \\\"id\\\": 1389585, \\\"job\\\": \\\"Set Designer\\\", \\\"name\\\": \\\"Bill Taliaferro\\\"}, {\\\"credit_id\\\": \\\"59904785c3a3687493029126\\\", \\\"department\\\": \\\"Sound\\\", \\\"gender\\\": 0, \\\"id\\\": 1390527, \\\"job\\\": \\\"Sound Effects Editor\\\", \\\"name\\\": \\\"Dave Kulczycki\\\"}, {\\\"credit_id\\\": \\\"59905010925141675f02bd38\\\", \\\"department\\\": \\\"Costume & Make-Up\\\", \\\"gender\\\": 0, \\\"id\\\": 1399322, \\\"job\\\": \\\"Set Costumer\\\", \\\"name\\\": \\\"Elizabeth Frank\\\"}, {\\\"credit_id\\\": \\\"59904d81925141670b02cf99\\\", \\\"department\\\": \\\"Camera\\\", \\\"gender\\\": 2, \\\"id\\\": 1400374, \\\"job\\\": \\\"Camera Operator\\\", \\\"name\\\": \\\"Casey Hotchkiss\\\"}, {\\\"credit_id\\\": \\\"599046d2c3a3687493029074\\\", \\\"department\\\": \\\"Sound\\\", \\\"gender\\\": 0, \\\"id\\\": 1404841, \\\"job\\\": \\\"ADR Editor\\\", \\\"name\\\": \\\"Zack Davis\\\"}, {\\\"credit_id\\\": \\\"59904214c3a368746102979f\\\", \\\"department\\\": \\\"Costume & Make-Up\\\", \\\"gender\\\": 0, \\\"id\\\": 1408278, \\\"job\\\": \\\"Hair Department Head\\\", \\\"name\\\": \\\"Erma Kent\\\"}, {\\\"credit_id\\\": \\\"599048b2925141670b02c97f\\\", \\\"department\\\": \\\"Sound\\\", \\\"gender\\\": 0, \\\"id\\\": 1416153, \\\"job\\\": \\\"Supervising Sound Editor\\\", \\\"name\\\": \\\"Donald Sylvester\\\"}, {\\\"credit_id\\\": \\\"59904ad6c3a36874b402a1cc\\\", \\\"department\\\": \\\"Visual Effects\\\", \\\"gender\\\": 0, \\\"id\\\": 1416167, \\\"job\\\": \\\"Visual Effects Producer\\\", \\\"name\\\": \\\"John Kilkenny\\\"}, {\\\"credit_id\\\": \\\"56ae7d849251416357002915\\\", \\\"department\\\": \\\"Costume & Make-Up\\\", \\\"gender\\\": 1, \\\"id\\\": 1424894, \\\"job\\\": \\\"Hairstylist\\\", \\\"name\\\": \\\"Camille Friend\\\"}, {\\\"credit_id\\\": \\\"599047ab925141674c02b48e\\\", \\\"department\\\": \\\"Sound\\\", \\\"gender\\\": 0, \\\"id\\\": 1425343, \\\"job\\\": \\\"ADR Editor\\\", \\\"name\\\": \\\"Vanessa Lapato\\\"}, {\\\"credit_id\\\": \\\"59904951925141673902ae4e\\\", \\\"department\\\": \\\"Crew\\\", \\\"gender\\\": 0, \\\"id\\\": 1442509, \\\"job\\\": \\\"Special Effects Coordinator\\\", \\\"name\\\": \\\"Alan E. Lorimer\\\"}, {\\\"credit_id\\\": \\\"59904427925141675902acc6\\\", \\\"department\\\": \\\"Art\\\", \\\"gender\\\": 0, \\\"id\\\": 1451398, \\\"job\\\": \\\"Greensman\\\", \\\"name\\\": \\\"Bryan McBrien\\\"}, {\\\"credit_id\\\": \\\"59904629c3a368744202b2d6\\\", \\\"department\\\": \\\"Art\\\", \\\"gender\\\": 0, \\\"id\\\": 1453276, \\\"job\\\": \\\"Construction Coordinator\\\", \\\"name\\\": \\\"Butch West\\\"}, {\\\"credit_id\\\": \\\"599034bcc3a3687493027d17\\\", \\\"department\\\": \\\"Crew\\\", \\\"gender\\\": 2, \\\"id\\\": 1454647, \\\"job\\\": \\\"Creator\\\", \\\"name\\\": \\\"Hugh Lofting\\\"}, {\\\"credit_id\\\": \\\"58dd11f1c3a36822ae00bc75\\\", \\\"department\\\": \\\"Directing\\\", \\\"gender\\\": 1, \\\"id\\\": 1457729, \\\"job\\\": \\\"Script Supervisor\\\", \\\"name\\\": \\\"Nancy Karlin\\\"}, {\\\"credit_id\\\": \\\"59904a8d925141675f02b6d8\\\", \\\"department\\\": \\\"Visual Effects\\\", \\\"gender\\\": 0, \\\"id\\\": 1496418, \\\"job\\\": \\\"Visual Effects Coordinator\\\", \\\"name\\\": \\\"Mitchell Ferm\\\"}, {\\\"credit_id\\\": \\\"599050e6925141674c02beef\\\", \\\"department\\\": \\\"Sound\\\", \\\"gender\\\": 2, \\\"id\\\": 1550058, \\\"job\\\": \\\"Music Editor\\\", \\\"name\\\": \\\"Jim Harrison\\\"}, {\\\"credit_id\\\": \\\"58dd11b0c3a368223e00b7db\\\", \\\"department\\\": \\\"Art\\\", \\\"gender\\\": 0, \\\"id\\\": 1585159, \\\"job\\\": \\\"Location Scout\\\", \\\"name\\\": \\\"Jasan Sherman\\\"}, {\\\"credit_id\\\": \\\"5990453a925141673902a8ec\\\", \\\"department\\\": \\\"Art\\\", \\\"gender\\\": 0, \\\"id\\\": 1586888, \\\"job\\\": \\\"Sculptor\\\", \\\"name\\\": \\\"Thomas Meikle\\\"}, {\\\"credit_id\\\": \\\"5990506dc3a368747302c6e3\\\", \\\"department\\\": \\\"Sound\\\", \\\"gender\\\": 0, \\\"id\\\": 1587383, \\\"job\\\": \\\"Music Supervisor\\\", \\\"name\\\": \\\"Spring Aspers\\\"}, {\\\"credit_id\\\": \\\"59904fbb925141672302c9ed\\\", \\\"department\\\": \\\"Costume & Make-Up\\\", \\\"gender\\\": 0, \\\"id\\\": 1610228, \\\"job\\\": \\\"Key Costumer\\\", \\\"name\\\": \\\"Craig Anthony\\\"}, {\\\"credit_id\\\": \\\"599047e3925141674c02b4cf\\\", \\\"department\\\": \\\"Sound\\\", \\\"gender\\\": 2, \\\"id\\\": 1737829, \\\"job\\\": \\\"Boom Operator\\\", \\\"name\\\": \\\"Harrison D. Marsh\\\"}, {\\\"credit_id\\\": \\\"58dd10b2c3a368228300b588\\\", \\\"department\\\": \\\"Production\\\", \\\"gender\\\": 1, \\\"id\\\": 1763970, \\\"job\\\": \\\"Casting Assistant\\\", \\\"name\\\": \\\"Nadia Lubbe Simon\\\"}, {\\\"credit_id\\\": \\\"58dd1052925141413c00beac\\\", \\\"department\\\": \\\"Production\\\", \\\"gender\\\": 1, \\\"id\\\": 1786614, \\\"job\\\": \\\"Casting Associate\\\", \\\"name\\\": \\\"Diana Jaher\\\"}, {\\\"credit_id\\\": \\\"58dd11d5c3a368229d00b6a0\\\", \\\"department\\\": \\\"Production\\\", \\\"gender\\\": 0, \\\"id\\\": 1786616, \\\"job\\\": \\\"Location Manager\\\", \\\"name\\\": \\\"Craig W. van Gundy\\\"}, {\\\"credit_id\\\": \\\"58dd1254c3a368227300c1e6\\\", \\\"department\\\": \\\"Production\\\", \\\"gender\\\": 1, \\\"id\\\": 1786618, \\\"job\\\": \\\"Production Coordinator\\\", \\\"name\\\": \\\"Kris Fullan Martinez\\\"}, {\\\"credit_id\\\": \\\"599042f4c3a368744202aefa\\\", \\\"department\\\": \\\"Art\\\", \\\"gender\\\": 0, \\\"id\\\": 1868861, \\\"job\\\": \\\"Painter\\\", \\\"name\\\": \\\"Joe A. Hawthorne\\\"}, {\\\"credit_id\\\": \\\"5990448e925141675f02afa7\\\", \\\"department\\\": \\\"Crew\\\", \\\"gender\\\": 0, \\\"id\\\": 1868865, \\\"job\\\": \\\"Propmaker\\\", \\\"name\\\": \\\"Robert McDonald\\\"}, {\\\"credit_id\\\": \\\"59904571925141670b02c572\\\", \\\"department\\\": \\\"Crew\\\", \\\"gender\\\": 0, \\\"id\\\": 1868867, \\\"job\\\": \\\"Propmaker\\\", \\\"name\\\": \\\"Robert Prchal\\\"}, {\\\"credit_id\\\": \\\"599045da925141673902a9d7\\\", \\\"department\\\": \\\"Crew\\\", \\\"gender\\\": 0, \\\"id\\\": 1868868, \\\"job\\\": \\\"Propmaker\\\", \\\"name\\\": \\\"Hal Schlax\\\"}, {\\\"credit_id\\\": \\\"59904c34925141675f02b8bc\\\", \\\"department\\\": \\\"Crew\\\", \\\"gender\\\": 2, \\\"id\\\": 1868877, \\\"job\\\": \\\"Stunt Coordinator\\\", \\\"name\\\": \\\"John Molo\\\"}, {\\\"credit_id\\\": \\\"59904cac925141673e02d7a8\\\", \\\"department\\\": \\\"Camera\\\", \\\"gender\\\": 0, \\\"id\\\": 1868878, \\\"job\\\": \\\"Camera Operator\\\", \\\"name\\\": \\\"Todd Dos Reis\\\"}, {\\\"credit_id\\\": \\\"59904d04925141676602ba9a\\\", \\\"department\\\": \\\"Camera\\\", \\\"gender\\\": 0, \\\"id\\\": 1868879, \\\"job\\\": \\\"Dolly Grip\\\", \\\"name\\\": \\\"Jason D. Hodges\\\"}, {\\\"credit_id\\\": \\\"59904d3bc3a36874b402a4b0\\\", \\\"department\\\": \\\"Camera\\\", \\\"gender\\\": 0, \\\"id\\\": 1868880, \\\"job\\\": \\\"Key Grip\\\", \\\"name\\\": \\\"Mike Hodges\\\"}, {\\\"credit_id\\\": \\\"59904df0925141672302c7da\\\", \\\"department\\\": \\\"Lighting\\\", \\\"gender\\\": 0, \\\"id\\\": 1868881, \\\"job\\\": \\\"Gaffer\\\", \\\"name\\\": \\\"Kal Manning\\\"}, {\\\"credit_id\\\": \\\"59904ede925141675f02bbe6\\\", \\\"department\\\": \\\"Camera\\\", \\\"gender\\\": 0, \\\"id\\\": 1868889, \\\"job\\\": \\\"Dolly Grip\\\", \\\"name\\\": \\\"Larry McCarron\\\"}, {\\\"credit_id\\\": \\\"59905109925141673e02dcde\\\", \\\"department\\\": \\\"Sound\\\", \\\"gender\\\": 0, \\\"id\\\": 1868892, \\\"job\\\": \\\"Music Editor\\\", \\\"name\\\": \\\"Kim Strand\\\"}]\",\n          \"[{\\\"credit_id\\\": \\\"52fe44479251416c7502f0c3\\\", \\\"department\\\": \\\"Sound\\\", \\\"gender\\\": 2, \\\"id\\\": 20953, \\\"job\\\": \\\"Original Music Composer\\\", \\\"name\\\": \\\"Harry Manfredini\\\"}, {\\\"credit_id\\\": \\\"534a8875c3a3682df60016a4\\\", \\\"department\\\": \\\"Production\\\", \\\"gender\\\": 0, \\\"id\\\": 23545, \\\"job\\\": \\\"Casting\\\", \\\"name\\\": \\\"Robin D. Cook\\\"}, {\\\"credit_id\\\": \\\"52fe44479251416c7502f0ed\\\", \\\"department\\\": \\\"Production\\\", \\\"gender\\\": 2, \\\"id\\\": 35475, \\\"job\\\": \\\"Executive Producer\\\", \\\"name\\\": \\\"Sean S. Cunningham\\\"}, {\\\"credit_id\\\": \\\"52fe44479251416c7502f0cf\\\", \\\"department\\\": \\\"Camera\\\", \\\"gender\\\": 2, \\\"id\\\": 55642, \\\"job\\\": \\\"Director of Photography\\\", \\\"name\\\": \\\"Derick V. Underschultz\\\"}, {\\\"credit_id\\\": \\\"52fe44479251416c7502f0b7\\\", \\\"department\\\": \\\"Writing\\\", \\\"gender\\\": 2, \\\"id\\\": 61117, \\\"job\\\": \\\"Screenplay\\\", \\\"name\\\": \\\"Todd Farmer\\\"}, {\\\"credit_id\\\": \\\"52fe44479251416c7502f0c9\\\", \\\"department\\\": \\\"Editing\\\", \\\"gender\\\": 2, \\\"id\\\": 64748, \\\"job\\\": \\\"Editor\\\", \\\"name\\\": \\\"David Handman\\\"}, {\\\"credit_id\\\": \\\"52fe44479251416c7502f0b1\\\", \\\"department\\\": \\\"Directing\\\", \\\"gender\\\": 2, \\\"id\\\": 69579, \\\"job\\\": \\\"Director\\\", \\\"name\\\": \\\"James Isaac\\\"}, {\\\"credit_id\\\": \\\"52fe44479251416c7502f0bd\\\", \\\"department\\\": \\\"Production\\\", \\\"gender\\\": 2, \\\"id\\\": 69585, \\\"job\\\": \\\"Producer\\\", \\\"name\\\": \\\"Noel Cunningham\\\"}, {\\\"credit_id\\\": \\\"534a888cc3a3682df60016a8\\\", \\\"department\\\": \\\"Costume & Make-Up\\\", \\\"gender\\\": 0, \\\"id\\\": 958703, \\\"job\\\": \\\"Costume Design\\\", \\\"name\\\": \\\"Maxyne Baker\\\"}]\"\n        ],\n        \"semantic_type\": \"\",\n        \"description\": \"\"\n      }\n    }\n  ]\n}"
            }
          },
          "metadata": {},
          "execution_count": 4
        }
      ]
    },
    {
      "cell_type": "markdown",
      "source": [
        "- Menampilkan 5 baris pertama dari dataframe 'credits'"
      ],
      "metadata": {
        "id": "XUaK4Q10QSz2"
      }
    },
    {
      "cell_type": "code",
      "source": [
        "credits.nunique()"
      ],
      "metadata": {
        "colab": {
          "base_uri": "https://localhost:8080/",
          "height": 210
        },
        "id": "LZ3jbAIDQo-O",
        "outputId": "0b06f80f-b19d-42ca-9f85-a3f54fce25ef"
      },
      "execution_count": 48,
      "outputs": [
        {
          "output_type": "execute_result",
          "data": {
            "text/plain": [
              "movie_id    4803\n",
              "title       4800\n",
              "cast        4761\n",
              "crew        4776\n",
              "dtype: int64"
            ],
            "text/html": [
              "<div>\n",
              "<style scoped>\n",
              "    .dataframe tbody tr th:only-of-type {\n",
              "        vertical-align: middle;\n",
              "    }\n",
              "\n",
              "    .dataframe tbody tr th {\n",
              "        vertical-align: top;\n",
              "    }\n",
              "\n",
              "    .dataframe thead th {\n",
              "        text-align: right;\n",
              "    }\n",
              "</style>\n",
              "<table border=\"1\" class=\"dataframe\">\n",
              "  <thead>\n",
              "    <tr style=\"text-align: right;\">\n",
              "      <th></th>\n",
              "      <th>0</th>\n",
              "    </tr>\n",
              "  </thead>\n",
              "  <tbody>\n",
              "    <tr>\n",
              "      <th>movie_id</th>\n",
              "      <td>4803</td>\n",
              "    </tr>\n",
              "    <tr>\n",
              "      <th>title</th>\n",
              "      <td>4800</td>\n",
              "    </tr>\n",
              "    <tr>\n",
              "      <th>cast</th>\n",
              "      <td>4761</td>\n",
              "    </tr>\n",
              "    <tr>\n",
              "      <th>crew</th>\n",
              "      <td>4776</td>\n",
              "    </tr>\n",
              "  </tbody>\n",
              "</table>\n",
              "</div><br><label><b>dtype:</b> int64</label>"
            ]
          },
          "metadata": {},
          "execution_count": 48
        }
      ]
    },
    {
      "cell_type": "markdown",
      "source": [
        "- movie_id memiliki 4803 nilai unik\n",
        "- title memiliki 4800 nilai unik\n",
        "- cast memiliki 4761 nilai unik\n",
        "- crew memiliki 4776 nilai unik\n",
        "- nilai unik pada movie_id dan title berbeda karena ada indikasi bahwa terdapat judul film yang sama tapi sebenarnya film tersebut berbeda contohnya film Batman dalam dataset tersebut ada dua dan setelah dicek secara manual, kedua film tersebut berbeda sehingga tidak terindikasi sebagai duplikat"
      ],
      "metadata": {
        "id": "E9mjdRaIQrJV"
      }
    },
    {
      "cell_type": "code",
      "source": [
        "movies.info()"
      ],
      "metadata": {
        "colab": {
          "base_uri": "https://localhost:8080/"
        },
        "id": "1Y8ARuX4EG7y",
        "outputId": "99015441-9d92-4689-ca72-38bfa6a61cb3"
      },
      "execution_count": 5,
      "outputs": [
        {
          "output_type": "stream",
          "name": "stdout",
          "text": [
            "<class 'pandas.core.frame.DataFrame'>\n",
            "RangeIndex: 4803 entries, 0 to 4802\n",
            "Data columns (total 20 columns):\n",
            " #   Column                Non-Null Count  Dtype  \n",
            "---  ------                --------------  -----  \n",
            " 0   budget                4803 non-null   int64  \n",
            " 1   genres                4803 non-null   object \n",
            " 2   homepage              1712 non-null   object \n",
            " 3   id                    4803 non-null   int64  \n",
            " 4   keywords              4803 non-null   object \n",
            " 5   original_language     4803 non-null   object \n",
            " 6   original_title        4803 non-null   object \n",
            " 7   overview              4800 non-null   object \n",
            " 8   popularity            4803 non-null   float64\n",
            " 9   production_companies  4803 non-null   object \n",
            " 10  production_countries  4803 non-null   object \n",
            " 11  release_date          4802 non-null   object \n",
            " 12  revenue               4803 non-null   int64  \n",
            " 13  runtime               4801 non-null   float64\n",
            " 14  spoken_languages      4803 non-null   object \n",
            " 15  status                4803 non-null   object \n",
            " 16  tagline               3959 non-null   object \n",
            " 17  title                 4803 non-null   object \n",
            " 18  vote_average          4803 non-null   float64\n",
            " 19  vote_count            4803 non-null   int64  \n",
            "dtypes: float64(3), int64(4), object(13)\n",
            "memory usage: 750.6+ KB\n"
          ]
        }
      ]
    },
    {
      "cell_type": "markdown",
      "source": [
        "- Terdapat 4803 entries dan 20 kolom dalam dataframe 'movies'\n",
        "- Terdapat 13 kolom dengan tipe data 'object', 4 kolom dengan tipe data 'int64', dan 3 kolom dengan tipe data 'float64'"
      ],
      "metadata": {
        "id": "097yve_0ZLtk"
      }
    },
    {
      "cell_type": "code",
      "source": [
        "movies.head()"
      ],
      "metadata": {
        "colab": {
          "base_uri": "https://localhost:8080/",
          "height": 730
        },
        "id": "afv4mfEhEL0n",
        "outputId": "5c2e2960-6a61-4cad-fe41-cdbf5a42a638"
      },
      "execution_count": 6,
      "outputs": [
        {
          "output_type": "execute_result",
          "data": {
            "text/plain": [
              "      budget                                             genres  \\\n",
              "0  237000000  [{\"id\": 28, \"name\": \"Action\"}, {\"id\": 12, \"nam...   \n",
              "1  300000000  [{\"id\": 12, \"name\": \"Adventure\"}, {\"id\": 14, \"...   \n",
              "2  245000000  [{\"id\": 28, \"name\": \"Action\"}, {\"id\": 12, \"nam...   \n",
              "3  250000000  [{\"id\": 28, \"name\": \"Action\"}, {\"id\": 80, \"nam...   \n",
              "4  260000000  [{\"id\": 28, \"name\": \"Action\"}, {\"id\": 12, \"nam...   \n",
              "\n",
              "                                       homepage      id  \\\n",
              "0                   http://www.avatarmovie.com/   19995   \n",
              "1  http://disney.go.com/disneypictures/pirates/     285   \n",
              "2   http://www.sonypictures.com/movies/spectre/  206647   \n",
              "3            http://www.thedarkknightrises.com/   49026   \n",
              "4          http://movies.disney.com/john-carter   49529   \n",
              "\n",
              "                                            keywords original_language  \\\n",
              "0  [{\"id\": 1463, \"name\": \"culture clash\"}, {\"id\":...                en   \n",
              "1  [{\"id\": 270, \"name\": \"ocean\"}, {\"id\": 726, \"na...                en   \n",
              "2  [{\"id\": 470, \"name\": \"spy\"}, {\"id\": 818, \"name...                en   \n",
              "3  [{\"id\": 849, \"name\": \"dc comics\"}, {\"id\": 853,...                en   \n",
              "4  [{\"id\": 818, \"name\": \"based on novel\"}, {\"id\":...                en   \n",
              "\n",
              "                             original_title  \\\n",
              "0                                    Avatar   \n",
              "1  Pirates of the Caribbean: At World's End   \n",
              "2                                   Spectre   \n",
              "3                     The Dark Knight Rises   \n",
              "4                               John Carter   \n",
              "\n",
              "                                            overview  popularity  \\\n",
              "0  In the 22nd century, a paraplegic Marine is di...  150.437577   \n",
              "1  Captain Barbossa, long believed to be dead, ha...  139.082615   \n",
              "2  A cryptic message from Bond’s past sends him o...  107.376788   \n",
              "3  Following the death of District Attorney Harve...  112.312950   \n",
              "4  John Carter is a war-weary, former military ca...   43.926995   \n",
              "\n",
              "                                production_companies  \\\n",
              "0  [{\"name\": \"Ingenious Film Partners\", \"id\": 289...   \n",
              "1  [{\"name\": \"Walt Disney Pictures\", \"id\": 2}, {\"...   \n",
              "2  [{\"name\": \"Columbia Pictures\", \"id\": 5}, {\"nam...   \n",
              "3  [{\"name\": \"Legendary Pictures\", \"id\": 923}, {\"...   \n",
              "4        [{\"name\": \"Walt Disney Pictures\", \"id\": 2}]   \n",
              "\n",
              "                                production_countries release_date     revenue  \\\n",
              "0  [{\"iso_3166_1\": \"US\", \"name\": \"United States o...   10-12-2009  2787965087   \n",
              "1  [{\"iso_3166_1\": \"US\", \"name\": \"United States o...   19-05-2007   961000000   \n",
              "2  [{\"iso_3166_1\": \"GB\", \"name\": \"United Kingdom\"...   26-10-2015   880674609   \n",
              "3  [{\"iso_3166_1\": \"US\", \"name\": \"United States o...   16-07-2012  1084939099   \n",
              "4  [{\"iso_3166_1\": \"US\", \"name\": \"United States o...   07-03-2012   284139100   \n",
              "\n",
              "   runtime                                   spoken_languages    status  \\\n",
              "0    162.0  [{\"iso_639_1\": \"en\", \"name\": \"English\"}, {\"iso...  Released   \n",
              "1    169.0           [{\"iso_639_1\": \"en\", \"name\": \"English\"}]  Released   \n",
              "2    148.0  [{\"iso_639_1\": \"fr\", \"name\": \"Fran\\u00e7ais\"},...  Released   \n",
              "3    165.0           [{\"iso_639_1\": \"en\", \"name\": \"English\"}]  Released   \n",
              "4    132.0           [{\"iso_639_1\": \"en\", \"name\": \"English\"}]  Released   \n",
              "\n",
              "                                          tagline  \\\n",
              "0                     Enter the World of Pandora.   \n",
              "1  At the end of the world, the adventure begins.   \n",
              "2                           A Plan No One Escapes   \n",
              "3                                 The Legend Ends   \n",
              "4            Lost in our world, found in another.   \n",
              "\n",
              "                                      title  vote_average  vote_count  \n",
              "0                                    Avatar           7.2       11800  \n",
              "1  Pirates of the Caribbean: At World's End           6.9        4500  \n",
              "2                                   Spectre           6.3        4466  \n",
              "3                     The Dark Knight Rises           7.6        9106  \n",
              "4                               John Carter           6.1        2124  "
            ],
            "text/html": [
              "\n",
              "  <div id=\"df-200aea7a-1b2a-4f7a-9ea3-768179d280bd\" class=\"colab-df-container\">\n",
              "    <div>\n",
              "<style scoped>\n",
              "    .dataframe tbody tr th:only-of-type {\n",
              "        vertical-align: middle;\n",
              "    }\n",
              "\n",
              "    .dataframe tbody tr th {\n",
              "        vertical-align: top;\n",
              "    }\n",
              "\n",
              "    .dataframe thead th {\n",
              "        text-align: right;\n",
              "    }\n",
              "</style>\n",
              "<table border=\"1\" class=\"dataframe\">\n",
              "  <thead>\n",
              "    <tr style=\"text-align: right;\">\n",
              "      <th></th>\n",
              "      <th>budget</th>\n",
              "      <th>genres</th>\n",
              "      <th>homepage</th>\n",
              "      <th>id</th>\n",
              "      <th>keywords</th>\n",
              "      <th>original_language</th>\n",
              "      <th>original_title</th>\n",
              "      <th>overview</th>\n",
              "      <th>popularity</th>\n",
              "      <th>production_companies</th>\n",
              "      <th>production_countries</th>\n",
              "      <th>release_date</th>\n",
              "      <th>revenue</th>\n",
              "      <th>runtime</th>\n",
              "      <th>spoken_languages</th>\n",
              "      <th>status</th>\n",
              "      <th>tagline</th>\n",
              "      <th>title</th>\n",
              "      <th>vote_average</th>\n",
              "      <th>vote_count</th>\n",
              "    </tr>\n",
              "  </thead>\n",
              "  <tbody>\n",
              "    <tr>\n",
              "      <th>0</th>\n",
              "      <td>237000000</td>\n",
              "      <td>[{\"id\": 28, \"name\": \"Action\"}, {\"id\": 12, \"nam...</td>\n",
              "      <td>http://www.avatarmovie.com/</td>\n",
              "      <td>19995</td>\n",
              "      <td>[{\"id\": 1463, \"name\": \"culture clash\"}, {\"id\":...</td>\n",
              "      <td>en</td>\n",
              "      <td>Avatar</td>\n",
              "      <td>In the 22nd century, a paraplegic Marine is di...</td>\n",
              "      <td>150.437577</td>\n",
              "      <td>[{\"name\": \"Ingenious Film Partners\", \"id\": 289...</td>\n",
              "      <td>[{\"iso_3166_1\": \"US\", \"name\": \"United States o...</td>\n",
              "      <td>10-12-2009</td>\n",
              "      <td>2787965087</td>\n",
              "      <td>162.0</td>\n",
              "      <td>[{\"iso_639_1\": \"en\", \"name\": \"English\"}, {\"iso...</td>\n",
              "      <td>Released</td>\n",
              "      <td>Enter the World of Pandora.</td>\n",
              "      <td>Avatar</td>\n",
              "      <td>7.2</td>\n",
              "      <td>11800</td>\n",
              "    </tr>\n",
              "    <tr>\n",
              "      <th>1</th>\n",
              "      <td>300000000</td>\n",
              "      <td>[{\"id\": 12, \"name\": \"Adventure\"}, {\"id\": 14, \"...</td>\n",
              "      <td>http://disney.go.com/disneypictures/pirates/</td>\n",
              "      <td>285</td>\n",
              "      <td>[{\"id\": 270, \"name\": \"ocean\"}, {\"id\": 726, \"na...</td>\n",
              "      <td>en</td>\n",
              "      <td>Pirates of the Caribbean: At World's End</td>\n",
              "      <td>Captain Barbossa, long believed to be dead, ha...</td>\n",
              "      <td>139.082615</td>\n",
              "      <td>[{\"name\": \"Walt Disney Pictures\", \"id\": 2}, {\"...</td>\n",
              "      <td>[{\"iso_3166_1\": \"US\", \"name\": \"United States o...</td>\n",
              "      <td>19-05-2007</td>\n",
              "      <td>961000000</td>\n",
              "      <td>169.0</td>\n",
              "      <td>[{\"iso_639_1\": \"en\", \"name\": \"English\"}]</td>\n",
              "      <td>Released</td>\n",
              "      <td>At the end of the world, the adventure begins.</td>\n",
              "      <td>Pirates of the Caribbean: At World's End</td>\n",
              "      <td>6.9</td>\n",
              "      <td>4500</td>\n",
              "    </tr>\n",
              "    <tr>\n",
              "      <th>2</th>\n",
              "      <td>245000000</td>\n",
              "      <td>[{\"id\": 28, \"name\": \"Action\"}, {\"id\": 12, \"nam...</td>\n",
              "      <td>http://www.sonypictures.com/movies/spectre/</td>\n",
              "      <td>206647</td>\n",
              "      <td>[{\"id\": 470, \"name\": \"spy\"}, {\"id\": 818, \"name...</td>\n",
              "      <td>en</td>\n",
              "      <td>Spectre</td>\n",
              "      <td>A cryptic message from Bond’s past sends him o...</td>\n",
              "      <td>107.376788</td>\n",
              "      <td>[{\"name\": \"Columbia Pictures\", \"id\": 5}, {\"nam...</td>\n",
              "      <td>[{\"iso_3166_1\": \"GB\", \"name\": \"United Kingdom\"...</td>\n",
              "      <td>26-10-2015</td>\n",
              "      <td>880674609</td>\n",
              "      <td>148.0</td>\n",
              "      <td>[{\"iso_639_1\": \"fr\", \"name\": \"Fran\\u00e7ais\"},...</td>\n",
              "      <td>Released</td>\n",
              "      <td>A Plan No One Escapes</td>\n",
              "      <td>Spectre</td>\n",
              "      <td>6.3</td>\n",
              "      <td>4466</td>\n",
              "    </tr>\n",
              "    <tr>\n",
              "      <th>3</th>\n",
              "      <td>250000000</td>\n",
              "      <td>[{\"id\": 28, \"name\": \"Action\"}, {\"id\": 80, \"nam...</td>\n",
              "      <td>http://www.thedarkknightrises.com/</td>\n",
              "      <td>49026</td>\n",
              "      <td>[{\"id\": 849, \"name\": \"dc comics\"}, {\"id\": 853,...</td>\n",
              "      <td>en</td>\n",
              "      <td>The Dark Knight Rises</td>\n",
              "      <td>Following the death of District Attorney Harve...</td>\n",
              "      <td>112.312950</td>\n",
              "      <td>[{\"name\": \"Legendary Pictures\", \"id\": 923}, {\"...</td>\n",
              "      <td>[{\"iso_3166_1\": \"US\", \"name\": \"United States o...</td>\n",
              "      <td>16-07-2012</td>\n",
              "      <td>1084939099</td>\n",
              "      <td>165.0</td>\n",
              "      <td>[{\"iso_639_1\": \"en\", \"name\": \"English\"}]</td>\n",
              "      <td>Released</td>\n",
              "      <td>The Legend Ends</td>\n",
              "      <td>The Dark Knight Rises</td>\n",
              "      <td>7.6</td>\n",
              "      <td>9106</td>\n",
              "    </tr>\n",
              "    <tr>\n",
              "      <th>4</th>\n",
              "      <td>260000000</td>\n",
              "      <td>[{\"id\": 28, \"name\": \"Action\"}, {\"id\": 12, \"nam...</td>\n",
              "      <td>http://movies.disney.com/john-carter</td>\n",
              "      <td>49529</td>\n",
              "      <td>[{\"id\": 818, \"name\": \"based on novel\"}, {\"id\":...</td>\n",
              "      <td>en</td>\n",
              "      <td>John Carter</td>\n",
              "      <td>John Carter is a war-weary, former military ca...</td>\n",
              "      <td>43.926995</td>\n",
              "      <td>[{\"name\": \"Walt Disney Pictures\", \"id\": 2}]</td>\n",
              "      <td>[{\"iso_3166_1\": \"US\", \"name\": \"United States o...</td>\n",
              "      <td>07-03-2012</td>\n",
              "      <td>284139100</td>\n",
              "      <td>132.0</td>\n",
              "      <td>[{\"iso_639_1\": \"en\", \"name\": \"English\"}]</td>\n",
              "      <td>Released</td>\n",
              "      <td>Lost in our world, found in another.</td>\n",
              "      <td>John Carter</td>\n",
              "      <td>6.1</td>\n",
              "      <td>2124</td>\n",
              "    </tr>\n",
              "  </tbody>\n",
              "</table>\n",
              "</div>\n",
              "    <div class=\"colab-df-buttons\">\n",
              "\n",
              "  <div class=\"colab-df-container\">\n",
              "    <button class=\"colab-df-convert\" onclick=\"convertToInteractive('df-200aea7a-1b2a-4f7a-9ea3-768179d280bd')\"\n",
              "            title=\"Convert this dataframe to an interactive table.\"\n",
              "            style=\"display:none;\">\n",
              "\n",
              "  <svg xmlns=\"http://www.w3.org/2000/svg\" height=\"24px\" viewBox=\"0 -960 960 960\">\n",
              "    <path d=\"M120-120v-720h720v720H120Zm60-500h600v-160H180v160Zm220 220h160v-160H400v160Zm0 220h160v-160H400v160ZM180-400h160v-160H180v160Zm440 0h160v-160H620v160ZM180-180h160v-160H180v160Zm440 0h160v-160H620v160Z\"/>\n",
              "  </svg>\n",
              "    </button>\n",
              "\n",
              "  <style>\n",
              "    .colab-df-container {\n",
              "      display:flex;\n",
              "      gap: 12px;\n",
              "    }\n",
              "\n",
              "    .colab-df-convert {\n",
              "      background-color: #E8F0FE;\n",
              "      border: none;\n",
              "      border-radius: 50%;\n",
              "      cursor: pointer;\n",
              "      display: none;\n",
              "      fill: #1967D2;\n",
              "      height: 32px;\n",
              "      padding: 0 0 0 0;\n",
              "      width: 32px;\n",
              "    }\n",
              "\n",
              "    .colab-df-convert:hover {\n",
              "      background-color: #E2EBFA;\n",
              "      box-shadow: 0px 1px 2px rgba(60, 64, 67, 0.3), 0px 1px 3px 1px rgba(60, 64, 67, 0.15);\n",
              "      fill: #174EA6;\n",
              "    }\n",
              "\n",
              "    .colab-df-buttons div {\n",
              "      margin-bottom: 4px;\n",
              "    }\n",
              "\n",
              "    [theme=dark] .colab-df-convert {\n",
              "      background-color: #3B4455;\n",
              "      fill: #D2E3FC;\n",
              "    }\n",
              "\n",
              "    [theme=dark] .colab-df-convert:hover {\n",
              "      background-color: #434B5C;\n",
              "      box-shadow: 0px 1px 3px 1px rgba(0, 0, 0, 0.15);\n",
              "      filter: drop-shadow(0px 1px 2px rgba(0, 0, 0, 0.3));\n",
              "      fill: #FFFFFF;\n",
              "    }\n",
              "  </style>\n",
              "\n",
              "    <script>\n",
              "      const buttonEl =\n",
              "        document.querySelector('#df-200aea7a-1b2a-4f7a-9ea3-768179d280bd button.colab-df-convert');\n",
              "      buttonEl.style.display =\n",
              "        google.colab.kernel.accessAllowed ? 'block' : 'none';\n",
              "\n",
              "      async function convertToInteractive(key) {\n",
              "        const element = document.querySelector('#df-200aea7a-1b2a-4f7a-9ea3-768179d280bd');\n",
              "        const dataTable =\n",
              "          await google.colab.kernel.invokeFunction('convertToInteractive',\n",
              "                                                    [key], {});\n",
              "        if (!dataTable) return;\n",
              "\n",
              "        const docLinkHtml = 'Like what you see? Visit the ' +\n",
              "          '<a target=\"_blank\" href=https://colab.research.google.com/notebooks/data_table.ipynb>data table notebook</a>'\n",
              "          + ' to learn more about interactive tables.';\n",
              "        element.innerHTML = '';\n",
              "        dataTable['output_type'] = 'display_data';\n",
              "        await google.colab.output.renderOutput(dataTable, element);\n",
              "        const docLink = document.createElement('div');\n",
              "        docLink.innerHTML = docLinkHtml;\n",
              "        element.appendChild(docLink);\n",
              "      }\n",
              "    </script>\n",
              "  </div>\n",
              "\n",
              "\n",
              "    <div id=\"df-d51ce184-5105-4813-9c07-b1d4d7694fe7\">\n",
              "      <button class=\"colab-df-quickchart\" onclick=\"quickchart('df-d51ce184-5105-4813-9c07-b1d4d7694fe7')\"\n",
              "                title=\"Suggest charts\"\n",
              "                style=\"display:none;\">\n",
              "\n",
              "<svg xmlns=\"http://www.w3.org/2000/svg\" height=\"24px\"viewBox=\"0 0 24 24\"\n",
              "     width=\"24px\">\n",
              "    <g>\n",
              "        <path d=\"M19 3H5c-1.1 0-2 .9-2 2v14c0 1.1.9 2 2 2h14c1.1 0 2-.9 2-2V5c0-1.1-.9-2-2-2zM9 17H7v-7h2v7zm4 0h-2V7h2v10zm4 0h-2v-4h2v4z\"/>\n",
              "    </g>\n",
              "</svg>\n",
              "      </button>\n",
              "\n",
              "<style>\n",
              "  .colab-df-quickchart {\n",
              "      --bg-color: #E8F0FE;\n",
              "      --fill-color: #1967D2;\n",
              "      --hover-bg-color: #E2EBFA;\n",
              "      --hover-fill-color: #174EA6;\n",
              "      --disabled-fill-color: #AAA;\n",
              "      --disabled-bg-color: #DDD;\n",
              "  }\n",
              "\n",
              "  [theme=dark] .colab-df-quickchart {\n",
              "      --bg-color: #3B4455;\n",
              "      --fill-color: #D2E3FC;\n",
              "      --hover-bg-color: #434B5C;\n",
              "      --hover-fill-color: #FFFFFF;\n",
              "      --disabled-bg-color: #3B4455;\n",
              "      --disabled-fill-color: #666;\n",
              "  }\n",
              "\n",
              "  .colab-df-quickchart {\n",
              "    background-color: var(--bg-color);\n",
              "    border: none;\n",
              "    border-radius: 50%;\n",
              "    cursor: pointer;\n",
              "    display: none;\n",
              "    fill: var(--fill-color);\n",
              "    height: 32px;\n",
              "    padding: 0;\n",
              "    width: 32px;\n",
              "  }\n",
              "\n",
              "  .colab-df-quickchart:hover {\n",
              "    background-color: var(--hover-bg-color);\n",
              "    box-shadow: 0 1px 2px rgba(60, 64, 67, 0.3), 0 1px 3px 1px rgba(60, 64, 67, 0.15);\n",
              "    fill: var(--button-hover-fill-color);\n",
              "  }\n",
              "\n",
              "  .colab-df-quickchart-complete:disabled,\n",
              "  .colab-df-quickchart-complete:disabled:hover {\n",
              "    background-color: var(--disabled-bg-color);\n",
              "    fill: var(--disabled-fill-color);\n",
              "    box-shadow: none;\n",
              "  }\n",
              "\n",
              "  .colab-df-spinner {\n",
              "    border: 2px solid var(--fill-color);\n",
              "    border-color: transparent;\n",
              "    border-bottom-color: var(--fill-color);\n",
              "    animation:\n",
              "      spin 1s steps(1) infinite;\n",
              "  }\n",
              "\n",
              "  @keyframes spin {\n",
              "    0% {\n",
              "      border-color: transparent;\n",
              "      border-bottom-color: var(--fill-color);\n",
              "      border-left-color: var(--fill-color);\n",
              "    }\n",
              "    20% {\n",
              "      border-color: transparent;\n",
              "      border-left-color: var(--fill-color);\n",
              "      border-top-color: var(--fill-color);\n",
              "    }\n",
              "    30% {\n",
              "      border-color: transparent;\n",
              "      border-left-color: var(--fill-color);\n",
              "      border-top-color: var(--fill-color);\n",
              "      border-right-color: var(--fill-color);\n",
              "    }\n",
              "    40% {\n",
              "      border-color: transparent;\n",
              "      border-right-color: var(--fill-color);\n",
              "      border-top-color: var(--fill-color);\n",
              "    }\n",
              "    60% {\n",
              "      border-color: transparent;\n",
              "      border-right-color: var(--fill-color);\n",
              "    }\n",
              "    80% {\n",
              "      border-color: transparent;\n",
              "      border-right-color: var(--fill-color);\n",
              "      border-bottom-color: var(--fill-color);\n",
              "    }\n",
              "    90% {\n",
              "      border-color: transparent;\n",
              "      border-bottom-color: var(--fill-color);\n",
              "    }\n",
              "  }\n",
              "</style>\n",
              "\n",
              "      <script>\n",
              "        async function quickchart(key) {\n",
              "          const quickchartButtonEl =\n",
              "            document.querySelector('#' + key + ' button');\n",
              "          quickchartButtonEl.disabled = true;  // To prevent multiple clicks.\n",
              "          quickchartButtonEl.classList.add('colab-df-spinner');\n",
              "          try {\n",
              "            const charts = await google.colab.kernel.invokeFunction(\n",
              "                'suggestCharts', [key], {});\n",
              "          } catch (error) {\n",
              "            console.error('Error during call to suggestCharts:', error);\n",
              "          }\n",
              "          quickchartButtonEl.classList.remove('colab-df-spinner');\n",
              "          quickchartButtonEl.classList.add('colab-df-quickchart-complete');\n",
              "        }\n",
              "        (() => {\n",
              "          let quickchartButtonEl =\n",
              "            document.querySelector('#df-d51ce184-5105-4813-9c07-b1d4d7694fe7 button');\n",
              "          quickchartButtonEl.style.display =\n",
              "            google.colab.kernel.accessAllowed ? 'block' : 'none';\n",
              "        })();\n",
              "      </script>\n",
              "    </div>\n",
              "\n",
              "    </div>\n",
              "  </div>\n"
            ],
            "application/vnd.google.colaboratory.intrinsic+json": {
              "type": "dataframe",
              "variable_name": "movies",
              "summary": "{\n  \"name\": \"movies\",\n  \"rows\": 4803,\n  \"fields\": [\n    {\n      \"column\": \"budget\",\n      \"properties\": {\n        \"dtype\": \"number\",\n        \"std\": 40722391,\n        \"min\": 0,\n        \"max\": 380000000,\n        \"num_unique_values\": 436,\n        \"samples\": [\n          439000,\n          68000000,\n          700000\n        ],\n        \"semantic_type\": \"\",\n        \"description\": \"\"\n      }\n    },\n    {\n      \"column\": \"genres\",\n      \"properties\": {\n        \"dtype\": \"category\",\n        \"num_unique_values\": 1175,\n        \"samples\": [\n          \"[{\\\"id\\\": 14, \\\"name\\\": \\\"Fantasy\\\"}, {\\\"id\\\": 12, \\\"name\\\": \\\"Adventure\\\"}, {\\\"id\\\": 16, \\\"name\\\": \\\"Animation\\\"}]\",\n          \"[{\\\"id\\\": 28, \\\"name\\\": \\\"Action\\\"}, {\\\"id\\\": 35, \\\"name\\\": \\\"Comedy\\\"}, {\\\"id\\\": 80, \\\"name\\\": \\\"Crime\\\"}, {\\\"id\\\": 18, \\\"name\\\": \\\"Drama\\\"}]\",\n          \"[{\\\"id\\\": 12, \\\"name\\\": \\\"Adventure\\\"}, {\\\"id\\\": 16, \\\"name\\\": \\\"Animation\\\"}, {\\\"id\\\": 10751, \\\"name\\\": \\\"Family\\\"}, {\\\"id\\\": 14, \\\"name\\\": \\\"Fantasy\\\"}, {\\\"id\\\": 878, \\\"name\\\": \\\"Science Fiction\\\"}]\"\n        ],\n        \"semantic_type\": \"\",\n        \"description\": \"\"\n      }\n    },\n    {\n      \"column\": \"homepage\",\n      \"properties\": {\n        \"dtype\": \"category\",\n        \"num_unique_values\": 1691,\n        \"samples\": [\n          \"https://www.warnerbros.com/running-scared\",\n          \"http://www.51birchstreet.com/index.php\",\n          \"http://movies2.foxjapan.com/glee/\"\n        ],\n        \"semantic_type\": \"\",\n        \"description\": \"\"\n      }\n    },\n    {\n      \"column\": \"id\",\n      \"properties\": {\n        \"dtype\": \"number\",\n        \"std\": 88694,\n        \"min\": 5,\n        \"max\": 459488,\n        \"num_unique_values\": 4803,\n        \"samples\": [\n          8427,\n          13006,\n          18041\n        ],\n        \"semantic_type\": \"\",\n        \"description\": \"\"\n      }\n    },\n    {\n      \"column\": \"keywords\",\n      \"properties\": {\n        \"dtype\": \"string\",\n        \"num_unique_values\": 4222,\n        \"samples\": [\n          \"[{\\\"id\\\": 782, \\\"name\\\": \\\"assassin\\\"}, {\\\"id\\\": 1872, \\\"name\\\": \\\"loss of father\\\"}, {\\\"id\\\": 2908, \\\"name\\\": \\\"secret society\\\"}, {\\\"id\\\": 3045, \\\"name\\\": \\\"mission of murder\\\"}, {\\\"id\\\": 9748, \\\"name\\\": \\\"revenge\\\"}]\",\n          \"[{\\\"id\\\": 2987, \\\"name\\\": \\\"gang war\\\"}, {\\\"id\\\": 4942, \\\"name\\\": \\\"victim of murder\\\"}, {\\\"id\\\": 5332, \\\"name\\\": \\\"greed\\\"}, {\\\"id\\\": 6062, \\\"name\\\": \\\"hostility\\\"}, {\\\"id\\\": 156212, \\\"name\\\": \\\"spaghetti western\\\"}]\",\n          \"[{\\\"id\\\": 703, \\\"name\\\": \\\"detective\\\"}, {\\\"id\\\": 1299, \\\"name\\\": \\\"monster\\\"}, {\\\"id\\\": 6101, \\\"name\\\": \\\"engine\\\"}, {\\\"id\\\": 10988, \\\"name\\\": \\\"based on tv series\\\"}, {\\\"id\\\": 15162, \\\"name\\\": \\\"dog\\\"}]\"\n        ],\n        \"semantic_type\": \"\",\n        \"description\": \"\"\n      }\n    },\n    {\n      \"column\": \"original_language\",\n      \"properties\": {\n        \"dtype\": \"category\",\n        \"num_unique_values\": 37,\n        \"samples\": [\n          \"xx\",\n          \"ta\",\n          \"es\"\n        ],\n        \"semantic_type\": \"\",\n        \"description\": \"\"\n      }\n    },\n    {\n      \"column\": \"original_title\",\n      \"properties\": {\n        \"dtype\": \"string\",\n        \"num_unique_values\": 4801,\n        \"samples\": [\n          \"I Spy\",\n          \"Love Letters\",\n          \"Sleepover\"\n        ],\n        \"semantic_type\": \"\",\n        \"description\": \"\"\n      }\n    },\n    {\n      \"column\": \"overview\",\n      \"properties\": {\n        \"dtype\": \"string\",\n        \"num_unique_values\": 4800,\n        \"samples\": [\n          \"When the Switchblade, the most sophisticated prototype stealth fighter created yet, is stolen from the U.S. government, one of the United States' top spies, Alex Scott, is called to action. What he doesn't expect is to get teamed up with a cocky civilian, World Class Boxing Champion Kelly Robinson, on a dangerous top secret espionage mission. Their assignment: using equal parts skill and humor, catch Arnold Gundars, one of the world's most successful arms dealers.\",\n          \"When \\\"street smart\\\" rapper Christopher \\\"C-Note\\\" Hawkins (Big Boi) applies for a membership to all-white Carolina Pines Country Club, the establishment's proprietors are hardly ready to oblige him.\",\n          \"As their first year of high school looms ahead, best friends Julie, Hannah, Yancy and Farrah have one last summer sleepover. Little do they know they're about to embark on the adventure of a lifetime. Desperate to shed their nerdy status, they take part in a night-long scavenger hunt that pits them against their popular archrivals. Everything under the sun goes on -- from taking Yancy's father's car to sneaking into nightclubs!\"\n        ],\n        \"semantic_type\": \"\",\n        \"description\": \"\"\n      }\n    },\n    {\n      \"column\": \"popularity\",\n      \"properties\": {\n        \"dtype\": \"number\",\n        \"std\": 31.816649749537806,\n        \"min\": 0.0,\n        \"max\": 875.581305,\n        \"num_unique_values\": 4802,\n        \"samples\": [\n          13.267631,\n          0.010909,\n          5.842299\n        ],\n        \"semantic_type\": \"\",\n        \"description\": \"\"\n      }\n    },\n    {\n      \"column\": \"production_companies\",\n      \"properties\": {\n        \"dtype\": \"string\",\n        \"num_unique_values\": 3697,\n        \"samples\": [\n          \"[{\\\"name\\\": \\\"Paramount Pictures\\\", \\\"id\\\": 4}, {\\\"name\\\": \\\"Cherry Alley Productions\\\", \\\"id\\\": 2232}]\",\n          \"[{\\\"name\\\": \\\"Twentieth Century Fox Film Corporation\\\", \\\"id\\\": 306}, {\\\"name\\\": \\\"Dune Entertainment\\\", \\\"id\\\": 444}, {\\\"name\\\": \\\"Regency Enterprises\\\", \\\"id\\\": 508}, {\\\"name\\\": \\\"Guy Walks into a Bar Productions\\\", \\\"id\\\": 2645}, {\\\"name\\\": \\\"Deep River Productions\\\", \\\"id\\\": 2646}, {\\\"name\\\": \\\"Friendly Films (II)\\\", \\\"id\\\": 81136}]\",\n          \"[{\\\"name\\\": \\\"Twentieth Century Fox Film Corporation\\\", \\\"id\\\": 306}]\"\n        ],\n        \"semantic_type\": \"\",\n        \"description\": \"\"\n      }\n    },\n    {\n      \"column\": \"production_countries\",\n      \"properties\": {\n        \"dtype\": \"category\",\n        \"num_unique_values\": 469,\n        \"samples\": [\n          \"[{\\\"iso_3166_1\\\": \\\"ES\\\", \\\"name\\\": \\\"Spain\\\"}, {\\\"iso_3166_1\\\": \\\"GB\\\", \\\"name\\\": \\\"United Kingdom\\\"}, {\\\"iso_3166_1\\\": \\\"US\\\", \\\"name\\\": \\\"United States of America\\\"}, {\\\"iso_3166_1\\\": \\\"FR\\\", \\\"name\\\": \\\"France\\\"}]\",\n          \"[{\\\"iso_3166_1\\\": \\\"US\\\", \\\"name\\\": \\\"United States of America\\\"}, {\\\"iso_3166_1\\\": \\\"CA\\\", \\\"name\\\": \\\"Canada\\\"}, {\\\"iso_3166_1\\\": \\\"DE\\\", \\\"name\\\": \\\"Germany\\\"}]\",\n          \"[{\\\"iso_3166_1\\\": \\\"DE\\\", \\\"name\\\": \\\"Germany\\\"}, {\\\"iso_3166_1\\\": \\\"ES\\\", \\\"name\\\": \\\"Spain\\\"}, {\\\"iso_3166_1\\\": \\\"GB\\\", \\\"name\\\": \\\"United Kingdom\\\"}, {\\\"iso_3166_1\\\": \\\"US\\\", \\\"name\\\": \\\"United States of America\\\"}]\"\n        ],\n        \"semantic_type\": \"\",\n        \"description\": \"\"\n      }\n    },\n    {\n      \"column\": \"release_date\",\n      \"properties\": {\n        \"dtype\": \"string\",\n        \"num_unique_values\": 3280,\n        \"samples\": [\n          \"16-10-1966\",\n          \"31-07-1987\",\n          \"23-09-1993\"\n        ],\n        \"semantic_type\": \"\",\n        \"description\": \"\"\n      }\n    },\n    {\n      \"column\": \"revenue\",\n      \"properties\": {\n        \"dtype\": \"number\",\n        \"std\": 162857100,\n        \"min\": 0,\n        \"max\": 2787965087,\n        \"num_unique_values\": 3297,\n        \"samples\": [\n          11833696,\n          10462500,\n          17807569\n        ],\n        \"semantic_type\": \"\",\n        \"description\": \"\"\n      }\n    },\n    {\n      \"column\": \"runtime\",\n      \"properties\": {\n        \"dtype\": \"number\",\n        \"std\": 22.611934588844207,\n        \"min\": 0.0,\n        \"max\": 338.0,\n        \"num_unique_values\": 156,\n        \"samples\": [\n          74.0,\n          85.0,\n          170.0\n        ],\n        \"semantic_type\": \"\",\n        \"description\": \"\"\n      }\n    },\n    {\n      \"column\": \"spoken_languages\",\n      \"properties\": {\n        \"dtype\": \"category\",\n        \"num_unique_values\": 544,\n        \"samples\": [\n          \"[{\\\"iso_639_1\\\": \\\"es\\\", \\\"name\\\": \\\"Espa\\\\u00f1ol\\\"}, {\\\"iso_639_1\\\": \\\"en\\\", \\\"name\\\": \\\"English\\\"}, {\\\"iso_639_1\\\": \\\"fr\\\", \\\"name\\\": \\\"Fran\\\\u00e7ais\\\"}, {\\\"iso_639_1\\\": \\\"hu\\\", \\\"name\\\": \\\"Magyar\\\"}]\",\n          \"[{\\\"iso_639_1\\\": \\\"en\\\", \\\"name\\\": \\\"English\\\"}, {\\\"iso_639_1\\\": \\\"it\\\", \\\"name\\\": \\\"Italiano\\\"}, {\\\"iso_639_1\\\": \\\"pt\\\", \\\"name\\\": \\\"Portugu\\\\u00eas\\\"}]\",\n          \"[{\\\"iso_639_1\\\": \\\"de\\\", \\\"name\\\": \\\"Deutsch\\\"}, {\\\"iso_639_1\\\": \\\"it\\\", \\\"name\\\": \\\"Italiano\\\"}, {\\\"iso_639_1\\\": \\\"la\\\", \\\"name\\\": \\\"Latin\\\"}, {\\\"iso_639_1\\\": \\\"pl\\\", \\\"name\\\": \\\"Polski\\\"}]\"\n        ],\n        \"semantic_type\": \"\",\n        \"description\": \"\"\n      }\n    },\n    {\n      \"column\": \"status\",\n      \"properties\": {\n        \"dtype\": \"category\",\n        \"num_unique_values\": 3,\n        \"samples\": [\n          \"Released\",\n          \"Post Production\",\n          \"Rumored\"\n        ],\n        \"semantic_type\": \"\",\n        \"description\": \"\"\n      }\n    },\n    {\n      \"column\": \"tagline\",\n      \"properties\": {\n        \"dtype\": \"string\",\n        \"num_unique_values\": 3944,\n        \"samples\": [\n          \"When you're 17, every day is war.\",\n          \"An Unspeakable Horror. A Creative Genius. Captured For Eternity.\",\n          \"May the schwartz be with you\"\n        ],\n        \"semantic_type\": \"\",\n        \"description\": \"\"\n      }\n    },\n    {\n      \"column\": \"title\",\n      \"properties\": {\n        \"dtype\": \"string\",\n        \"num_unique_values\": 4800,\n        \"samples\": [\n          \"I Spy\",\n          \"Who's Your Caddy?\",\n          \"Sleepover\"\n        ],\n        \"semantic_type\": \"\",\n        \"description\": \"\"\n      }\n    },\n    {\n      \"column\": \"vote_average\",\n      \"properties\": {\n        \"dtype\": \"number\",\n        \"std\": 1.1946121628478925,\n        \"min\": 0.0,\n        \"max\": 10.0,\n        \"num_unique_values\": 71,\n        \"samples\": [\n          5.1,\n          7.2,\n          4.0\n        ],\n        \"semantic_type\": \"\",\n        \"description\": \"\"\n      }\n    },\n    {\n      \"column\": \"vote_count\",\n      \"properties\": {\n        \"dtype\": \"number\",\n        \"std\": 1234,\n        \"min\": 0,\n        \"max\": 13752,\n        \"num_unique_values\": 1609,\n        \"samples\": [\n          7604,\n          3428,\n          225\n        ],\n        \"semantic_type\": \"\",\n        \"description\": \"\"\n      }\n    }\n  ]\n}"
            }
          },
          "metadata": {},
          "execution_count": 6
        }
      ]
    },
    {
      "cell_type": "markdown",
      "source": [
        "- Menampilkan 5 baris pertama dalam dataframe 'movies'"
      ],
      "metadata": {
        "id": "y8GoFrVJjk99"
      }
    },
    {
      "cell_type": "code",
      "source": [
        "movies.nunique()"
      ],
      "metadata": {
        "colab": {
          "base_uri": "https://localhost:8080/",
          "height": 712
        },
        "id": "TUcgOmntNImw",
        "outputId": "4cf7616c-4116-4398-ea0d-a6a4e3c8705f"
      },
      "execution_count": 7,
      "outputs": [
        {
          "output_type": "execute_result",
          "data": {
            "text/plain": [
              "budget                   436\n",
              "genres                  1175\n",
              "homepage                1691\n",
              "id                      4803\n",
              "keywords                4222\n",
              "original_language         37\n",
              "original_title          4801\n",
              "overview                4800\n",
              "popularity              4802\n",
              "production_companies    3697\n",
              "production_countries     469\n",
              "release_date            3280\n",
              "revenue                 3297\n",
              "runtime                  156\n",
              "spoken_languages         544\n",
              "status                     3\n",
              "tagline                 3944\n",
              "title                   4800\n",
              "vote_average              71\n",
              "vote_count              1609\n",
              "dtype: int64"
            ],
            "text/html": [
              "<div>\n",
              "<style scoped>\n",
              "    .dataframe tbody tr th:only-of-type {\n",
              "        vertical-align: middle;\n",
              "    }\n",
              "\n",
              "    .dataframe tbody tr th {\n",
              "        vertical-align: top;\n",
              "    }\n",
              "\n",
              "    .dataframe thead th {\n",
              "        text-align: right;\n",
              "    }\n",
              "</style>\n",
              "<table border=\"1\" class=\"dataframe\">\n",
              "  <thead>\n",
              "    <tr style=\"text-align: right;\">\n",
              "      <th></th>\n",
              "      <th>0</th>\n",
              "    </tr>\n",
              "  </thead>\n",
              "  <tbody>\n",
              "    <tr>\n",
              "      <th>budget</th>\n",
              "      <td>436</td>\n",
              "    </tr>\n",
              "    <tr>\n",
              "      <th>genres</th>\n",
              "      <td>1175</td>\n",
              "    </tr>\n",
              "    <tr>\n",
              "      <th>homepage</th>\n",
              "      <td>1691</td>\n",
              "    </tr>\n",
              "    <tr>\n",
              "      <th>id</th>\n",
              "      <td>4803</td>\n",
              "    </tr>\n",
              "    <tr>\n",
              "      <th>keywords</th>\n",
              "      <td>4222</td>\n",
              "    </tr>\n",
              "    <tr>\n",
              "      <th>original_language</th>\n",
              "      <td>37</td>\n",
              "    </tr>\n",
              "    <tr>\n",
              "      <th>original_title</th>\n",
              "      <td>4801</td>\n",
              "    </tr>\n",
              "    <tr>\n",
              "      <th>overview</th>\n",
              "      <td>4800</td>\n",
              "    </tr>\n",
              "    <tr>\n",
              "      <th>popularity</th>\n",
              "      <td>4802</td>\n",
              "    </tr>\n",
              "    <tr>\n",
              "      <th>production_companies</th>\n",
              "      <td>3697</td>\n",
              "    </tr>\n",
              "    <tr>\n",
              "      <th>production_countries</th>\n",
              "      <td>469</td>\n",
              "    </tr>\n",
              "    <tr>\n",
              "      <th>release_date</th>\n",
              "      <td>3280</td>\n",
              "    </tr>\n",
              "    <tr>\n",
              "      <th>revenue</th>\n",
              "      <td>3297</td>\n",
              "    </tr>\n",
              "    <tr>\n",
              "      <th>runtime</th>\n",
              "      <td>156</td>\n",
              "    </tr>\n",
              "    <tr>\n",
              "      <th>spoken_languages</th>\n",
              "      <td>544</td>\n",
              "    </tr>\n",
              "    <tr>\n",
              "      <th>status</th>\n",
              "      <td>3</td>\n",
              "    </tr>\n",
              "    <tr>\n",
              "      <th>tagline</th>\n",
              "      <td>3944</td>\n",
              "    </tr>\n",
              "    <tr>\n",
              "      <th>title</th>\n",
              "      <td>4800</td>\n",
              "    </tr>\n",
              "    <tr>\n",
              "      <th>vote_average</th>\n",
              "      <td>71</td>\n",
              "    </tr>\n",
              "    <tr>\n",
              "      <th>vote_count</th>\n",
              "      <td>1609</td>\n",
              "    </tr>\n",
              "  </tbody>\n",
              "</table>\n",
              "</div><br><label><b>dtype:</b> int64</label>"
            ]
          },
          "metadata": {},
          "execution_count": 7
        }
      ]
    },
    {
      "cell_type": "markdown",
      "source": [
        "**Insight**\n",
        "\n",
        "Berikut deskripsi disetiap kolom nya"
      ],
      "metadata": {
        "id": "u-gTjJOFYSNM"
      }
    },
    {
      "cell_type": "markdown",
      "source": [
        "| No. | Kolom                  | Tipe Data | Deskripsi                                                               |\n",
        "| --- | ---------------------- | --------- | ----------------------------------------------------------------------- |\n",
        "| 1   | `budget`               | `int64`   | Anggaran produksi film       |\n",
        "| 2   | `genres`               | `object`  | List genre film                              |\n",
        "| 3   | `homepage`             | `object`  | URL situs resmi film (kalau ada).|\n",
        "| 4   | `id`                   | `int64`   | ID unik untuk setiap film|\n",
        "| 5   | `keywords`             | `object`  | Kata kunci terkait isi/tema film|\n",
        "| 6   | `original_language`    | `object`  | Bahasa asli saat film diproduksi (contoh: `en`, `fr`, `ko`, dll).    \n",
        "| 7   | `original_title`       | `object`  | Judul asli film (kadang beda sama `title`, terutama untuk film asing).  |\n",
        "| 8   | `overview`             | `object`  | Ringkasan atau sinopsis film.                                           |\n",
        "| 9   | `popularity`           | `float64` | Skor popularitas (kayaknya dihitung dari views, rating, dll).           |\n",
        "| 10  | `production_companies` | `object`  | List perusahaan produksi film|\n",
        "| 11  | `production_countries` | `object`  | Negara tempat produksi film|\n",
        "| 12  | `release_date`         | `object`  | Tanggal rilis film.|\n",
        "| 13  | `revenue`              | `int64`   | Pendapatan kotor film|\n",
        "| 14  | `runtime`              | `float64` | Durasi film dalam menit.|\n",
        "| 15  | `spoken_languages`     | `object`  | Bahasa yang digunakan dalam film|\n",
        "| 16  | `status`               | `object`  | Status film (contoh: `Released`, `Post Production', 'Rumored`).|\n",
        "| 17  | `tagline`              | `object`  | Slogan atau tagline dari film.|\n",
        "| 18  | `title`                | `object`  | Judul film yang umum diketahui|\n",
        "| 19  | `vote_average`         | `float64` | Rata-rata rating dari user.|\n",
        "| 20  | `vote_count`           | `int64`   | Total jumlah vote yang diterima.|\n"
      ],
      "metadata": {
        "id": "a2xbQpXMXbv_"
      }
    },
    {
      "cell_type": "markdown",
      "source": [
        "### Data Cleaning\n"
      ],
      "metadata": {
        "id": "rAubqcK7FyUR"
      }
    },
    {
      "cell_type": "code",
      "source": [
        "print(\"Missing values in 'movies' DataFrame:\")\n",
        "print(movies.isnull().sum())\n",
        "\n",
        "print(\"\\nMissing values in 'credits' DataFrame:\")\n",
        "print(credits.isnull().sum())"
      ],
      "metadata": {
        "colab": {
          "base_uri": "https://localhost:8080/"
        },
        "id": "YlzWMJBLF1NK",
        "outputId": "c3cd1030-63bc-4213-c219-77cef9a61df6"
      },
      "execution_count": 9,
      "outputs": [
        {
          "output_type": "stream",
          "name": "stdout",
          "text": [
            "Missing values in 'movies' DataFrame:\n",
            "budget                     0\n",
            "genres                     0\n",
            "homepage                3091\n",
            "id                         0\n",
            "keywords                   0\n",
            "original_language          0\n",
            "original_title             0\n",
            "overview                   3\n",
            "popularity                 0\n",
            "production_companies       0\n",
            "production_countries       0\n",
            "release_date               1\n",
            "revenue                    0\n",
            "runtime                    2\n",
            "spoken_languages           0\n",
            "status                     0\n",
            "tagline                  844\n",
            "title                      0\n",
            "vote_average               0\n",
            "vote_count                 0\n",
            "dtype: int64\n",
            "\n",
            "Missing values in 'credits' DataFrame:\n",
            "movie_id    0\n",
            "title       0\n",
            "cast        0\n",
            "crew        0\n",
            "dtype: int64\n"
          ]
        }
      ]
    },
    {
      "cell_type": "markdown",
      "source": [
        "- Terdapat banyak missing value dari datafram 'movies'\n",
        "- 3091 missing value dalam kolom 'homepage'\n",
        "- 3 missing value dalam kolom 'overview'\n",
        "- 1 missing value dalam kolom 'release_date'\n",
        "- 2 missing value dalam kolom 'runtime'\n",
        "- 844 missing value dalam kolom 'tagline'\n",
        "- Tidak terdapat missing value pada dataframe 'credits'"
      ],
      "metadata": {
        "id": "NYHi4atkjuKN"
      }
    },
    {
      "cell_type": "code",
      "source": [
        "# Isi nilai kosong dengan string kosong untuk kolom teks\n",
        "movies['homepage'] = movies['homepage'].fillna('')\n",
        "movies['overview'] = movies['overview'].fillna('')\n",
        "movies['tagline'] = movies['tagline'].fillna('')\n",
        "\n",
        "# Konversi release_date ke datetime dan isi NaT dengan tanggal default\n",
        "movies['release_date'] = pd.to_datetime(movies['release_date'], errors='coerce')\n",
        "movies['release_date'] = movies['release_date'].fillna(pd.Timestamp('1900-01-01'))\n",
        "\n",
        "# Isi runtime yang kosong dengan nilai median\n",
        "movies['runtime'] = movies['runtime'].fillna(movies['runtime'].median())\n",
        "\n",
        "# Cek hasil akhir\n",
        "print(movies.isnull().sum())\n"
      ],
      "metadata": {
        "colab": {
          "base_uri": "https://localhost:8080/"
        },
        "id": "9L6xaQNkGCpQ",
        "outputId": "8febdd54-65f1-4f83-eb69-1a7befd6c045"
      },
      "execution_count": 47,
      "outputs": [
        {
          "output_type": "stream",
          "name": "stdout",
          "text": [
            "budget                  0\n",
            "genres                  0\n",
            "homepage                0\n",
            "id                      0\n",
            "keywords                0\n",
            "original_language       0\n",
            "original_title          0\n",
            "overview                0\n",
            "popularity              0\n",
            "production_companies    0\n",
            "production_countries    0\n",
            "release_date            0\n",
            "revenue                 0\n",
            "runtime                 0\n",
            "spoken_languages        0\n",
            "status                  0\n",
            "tagline                 0\n",
            "title                   0\n",
            "vote_average            0\n",
            "vote_count              0\n",
            "movie_id                0\n",
            "cast                    0\n",
            "crew                    0\n",
            "tags                    0\n",
            "dtype: int64\n"
          ]
        }
      ]
    },
    {
      "cell_type": "markdown",
      "source": [
        "- Kode tersebut untuk mengatasi missing value yang bisa mengakibatkan error.\n",
        "- Kolom teks (homepage, overview, tagline) Diisi dengan string kosong, Supaya nggak error waktu diolah pakai string method.\n",
        "- Kolom tanggal (release_date) Di-convert ke datetime.\n",
        "- Kolom durasi (runtime) NaN diisi pakai median runtime."
      ],
      "metadata": {
        "id": "xDXF_VOwkntr"
      }
    },
    {
      "cell_type": "code",
      "source": [
        "# Cek duplikat berdasarkan seluruh kolom\n",
        "print(\"Duplikat di 'movies' (seluruh kolom):\", movies.duplicated().sum())\n",
        "print(\"Duplikat di 'credits' (seluruh kolom):\", credits.duplicated().sum())\n",
        "\n",
        "# Cek duplikat berdasarkan 'id' atau 'movie_id'\n",
        "print(\"Duplikat ID di 'movies':\", movies['id'].duplicated().sum())\n",
        "print(\"Duplikat ID di 'credits':\", credits['movie_id'].duplicated().sum())\n"
      ],
      "metadata": {
        "colab": {
          "base_uri": "https://localhost:8080/"
        },
        "id": "g_8-HhDTMHik",
        "outputId": "9615f528-eb50-4775-86ae-b9cde0351882"
      },
      "execution_count": 11,
      "outputs": [
        {
          "output_type": "stream",
          "name": "stdout",
          "text": [
            "Duplikat di 'movies' (seluruh kolom): 0\n",
            "Duplikat di 'credits' (seluruh kolom): 0\n",
            "Duplikat ID di 'movies': 0\n",
            "Duplikat ID di 'credits': 0\n"
          ]
        }
      ]
    },
    {
      "cell_type": "markdown",
      "source": [
        "- Dari output diatas dapat disimpulkan bahwa dalam kedua dataframe tidak ditemukan data yang duplikat"
      ],
      "metadata": {
        "id": "M3fenAukldT9"
      }
    },
    {
      "cell_type": "code",
      "source": [
        "# Tampilkan baris duplikat jika ada\n",
        "print(movies[movies.duplicated()])\n",
        "print(credits[credits.duplicated()])\n"
      ],
      "metadata": {
        "colab": {
          "base_uri": "https://localhost:8080/"
        },
        "id": "wXXNcmeiMJpq",
        "outputId": "fc4ba53e-9dff-4086-fa45-c3155fb362da"
      },
      "execution_count": 12,
      "outputs": [
        {
          "output_type": "stream",
          "name": "stdout",
          "text": [
            "Empty DataFrame\n",
            "Columns: [budget, genres, homepage, id, keywords, original_language, original_title, overview, popularity, production_companies, production_countries, release_date, revenue, runtime, spoken_languages, status, tagline, title, vote_average, vote_count]\n",
            "Index: []\n",
            "Empty DataFrame\n",
            "Columns: [movie_id, title, cast, crew]\n",
            "Index: []\n"
          ]
        }
      ]
    },
    {
      "cell_type": "markdown",
      "source": [
        "- Dari kedua dataframe juga tidak ditemukan baris yang duplikat"
      ],
      "metadata": {
        "id": "6TePYD2tlng5"
      }
    },
    {
      "cell_type": "markdown",
      "source": [
        "# Exploratory Data Analysis"
      ],
      "metadata": {
        "id": "VC0PeSNGWa4z"
      }
    },
    {
      "cell_type": "code",
      "source": [
        "import matplotlib.pyplot as plt\n",
        "import seaborn as sns\n",
        "\n",
        "plt.figure(figsize=(10, 5))\n",
        "sns.histplot(movies['runtime'].dropna(), bins=40, color='salmon')\n",
        "plt.title('Distribusi Durasi Film')\n",
        "plt.xlabel('Durasi (menit)')\n",
        "plt.ylabel('Jumlah Film')\n",
        "plt.show()"
      ],
      "metadata": {
        "colab": {
          "base_uri": "https://localhost:8080/",
          "height": 487
        },
        "id": "Xolz5giyXaHy",
        "outputId": "8d33d0cc-8c95-40e3-c5ea-817d8fcdf33e"
      },
      "execution_count": 13,
      "outputs": [
        {
          "output_type": "display_data",
          "data": {
            "text/plain": [
              "<Figure size 1000x500 with 1 Axes>"
            ],
            "image/png": "[encoded data removed]"
          },
          "metadata": {}
        }
      ]
    },
    {
      "cell_type": "markdown",
      "source": [
        "- Kode diatas digunakan untuk membuta visualisasi distribusi durasi film yang dimana waktu durasi nya itu diambil dari kolom 'runtime'\n",
        "- Grafik menunjukkan bahwa sebagian besar film memiliki durasi antara 90 hingga 120 menit, dengan puncaknya di sekitar 100 menit. Ini mengindikasikan bahwa durasi film yang paling umum atau \"standar\" berada dalam rentang tersebut."
      ],
      "metadata": {
        "id": "y1SW7AeOmA6O"
      }
    },
    {
      "cell_type": "code",
      "source": [
        "from collections import Counter\n",
        "import ast\n",
        "\n",
        "# Ambil daftar genre\n",
        "genre_list = []\n",
        "for g in movies['genres']:\n",
        "    try:\n",
        "        genre_list.extend([i['name'] for i in ast.literal_eval(g)])\n",
        "    except:\n",
        "        continue\n",
        "\n",
        "genre_counts = Counter(genre_list)\n",
        "\n",
        "# Visualisasi 10 genre teratas\n",
        "top_genres = genre_counts.most_common(10)\n",
        "genres, counts = zip(*top_genres)\n",
        "\n",
        "plt.figure(figsize=(10, 5))\n",
        "sns.barplot(x=list(genres), y=list(counts), palette='viridis')\n",
        "plt.title('10 Genre Film Terpopuler')\n",
        "plt.xlabel('Genre')\n",
        "plt.ylabel('Jumlah')\n",
        "plt.xticks(rotation=45)\n",
        "plt.show()\n"
      ],
      "metadata": {
        "colab": {
          "base_uri": "https://localhost:8080/",
          "height": 646
        },
        "id": "dhBl7n3CXdew",
        "outputId": "fd70232d-64c5-4fb8-a569-4fdfa5a013a6"
      },
      "execution_count": 14,
      "outputs": [
        {
          "output_type": "stream",
          "name": "stderr",
          "text": [
            "<ipython-input-14-9d0ada6a2037>:19: FutureWarning: \n",
            "\n",
            "Passing `palette` without assigning `hue` is deprecated and will be removed in v0.14.0. Assign the `x` variable to `hue` and set `legend=False` for the same effect.\n",
            "\n",
            "  sns.barplot(x=list(genres), y=list(counts), palette='viridis')\n"
          ]
        },
        {
          "output_type": "display_data",
          "data": {
            "text/plain": [
              "<Figure size 1000x500 with 1 Axes>"
            ],
            "image/png": "[encoded data removed]"
          },
          "metadata": {}
        }
      ]
    },
    {
      "cell_type": "markdown",
      "source": [
        "- Kode diatas digunakan untuk membuta visualisasi yang berisi 10 genre film terpopuler dalam dataset ini.\n",
        "- Genre \"Drama\" adalah yang paling populer secara signifikan, dengan jumlah film melebihi 2250. Ini menunjukkan bahwa film-film drama memiliki representasi yang jauh lebih tinggi dibandingkan genre lainnya dalam dataset ini."
      ],
      "metadata": {
        "id": "wBrC5FavmTj1"
      }
    },
    {
      "cell_type": "code",
      "source": [
        "actor_list = []\n",
        "for c in credits['cast']:\n",
        "    try:\n",
        "        actor_list.extend([i['name'] for i in ast.literal_eval(c)[:5]])\n",
        "    except:\n",
        "        continue\n",
        "\n",
        "actor_counts = Counter(actor_list)\n",
        "top_actors = actor_counts.most_common(10)\n",
        "actors, counts = zip(*top_actors)\n",
        "\n",
        "plt.figure(figsize=(10, 5))\n",
        "sns.barplot(x=list(actors), y=list(counts), palette='magma')\n",
        "plt.title('10 Aktor Terbanyak Muncul')\n",
        "plt.xlabel('Aktor')\n",
        "plt.ylabel('Jumlah Film')\n",
        "plt.xticks(rotation=45)\n",
        "plt.show()\n"
      ],
      "metadata": {
        "colab": {
          "base_uri": "https://localhost:8080/",
          "height": 662
        },
        "id": "Xz25zWWeXgtE",
        "outputId": "6d54e14e-b3de-4879-e20e-554311fe07aa"
      },
      "execution_count": 15,
      "outputs": [
        {
          "output_type": "stream",
          "name": "stderr",
          "text": [
            "<ipython-input-15-3a2bf67983e7>:13: FutureWarning: \n",
            "\n",
            "Passing `palette` without assigning `hue` is deprecated and will be removed in v0.14.0. Assign the `x` variable to `hue` and set `legend=False` for the same effect.\n",
            "\n",
            "  sns.barplot(x=list(actors), y=list(counts), palette='magma')\n"
          ]
        },
        {
          "output_type": "display_data",
          "data": {
            "text/plain": [
              "<Figure size 1000x500 with 1 Axes>"
            ],
            "image/png": "[encoded data removed]"
          },
          "metadata": {}
        }
      ]
    },
    {
      "cell_type": "markdown",
      "source": [
        "- Kode diatas digunakan untuk membuta visualisasi yang berisi 10 aktor yang paling sering muncul dalam film\n",
        "- **Robert De Niro** muncul dalam lebih dari 50 film, menjadikannya aktor dengan penampilan terbanyak dalam dataset ini. **Samuel L. Jackson** berada di posisi kedua dengan lebih dari 40 film, menunjukkan konsistensi dan produktivitas tinggi dari kedua aktor tersebut."
      ],
      "metadata": {
        "id": "Os6MH1qPmsQB"
      }
    },
    {
      "cell_type": "code",
      "source": [
        "plt.figure(figsize=(10, 5))\n",
        "sns.histplot(movies['vote_average'], bins=20, color='mediumseagreen')\n",
        "plt.title('Distribusi Rating Film')\n",
        "plt.xlabel('Rating')\n",
        "plt.ylabel('Jumlah Film')\n",
        "plt.show()\n"
      ],
      "metadata": {
        "colab": {
          "base_uri": "https://localhost:8080/",
          "height": 487
        },
        "id": "cBRWd3E4Xy_9",
        "outputId": "a2054fca-a5e5-484e-ac42-10ea116cefe8"
      },
      "execution_count": 49,
      "outputs": [
        {
          "output_type": "display_data",
          "data": {
            "text/plain": [
              "<Figure size 1000x500 with 1 Axes>"
            ],
            "image/png": "[encoded data removed]"
          },
          "metadata": {}
        }
      ]
    },
    {
      "cell_type": "markdown",
      "source": [
        "- Kode diatas digunakan untuk membuat visualisasi distribusi rating film yang dimana nilai rating nya diambil dari kolom 'vote_average'\n",
        "- Distribusi rating film menunjukkan puncak yang jelas antara rating 6 hingga 7.5. Ini mengindikasikan bahwa sebagian besar film dalam dataset ini menerima rating yang relatif baik atau di atas rata-rata."
      ],
      "metadata": {
        "id": "YEaETh77nb_F"
      }
    },
    {
      "cell_type": "code",
      "source": [
        "numeric_cols = ['popularity', 'vote_average', 'vote_count', 'revenue', 'runtime']\n",
        "corr = movies[numeric_cols].corr()\n",
        "\n",
        "plt.figure(figsize=(8, 6))\n",
        "sns.heatmap(corr, annot=True, cmap='coolwarm', fmt=\".2f\")\n",
        "plt.title('Korelasi Antar Fitur Numerik')\n",
        "plt.show()\n"
      ],
      "metadata": {
        "colab": {
          "base_uri": "https://localhost:8080/",
          "height": 545
        },
        "id": "yeIxHG_yX3jR",
        "outputId": "20f2c7a3-ff2f-4cf9-fd1b-b289f63d96e9"
      },
      "execution_count": 17,
      "outputs": [
        {
          "output_type": "display_data",
          "data": {
            "text/plain": [
              "<Figure size 800x600 with 2 Axes>"
            ],
            "image/png": "[encoded data removed]"
          },
          "metadata": {}
        }
      ]
    },
    {
      "cell_type": "markdown",
      "source": [
        "- Terdapat korelasi positif yang kuat antara \"popularity\" dengan \"vote_count\" (0.78), dan juga antara \"vote_count\" dengan \"revenue\" (0.78). Selain itu, \"popularity\" dan \"revenue\" juga menunjukkan korelasi positif yang cukup kuat (0.64). Ini mengindikasikan bahwa film yang lebih populer cenderung memiliki jumlah suara (votes) yang lebih tinggi, dan pada gilirannya, cenderung menghasilkan pendapatan (revenue) yang lebih besar.\n",
        "- Fitur \"runtime\" (durasi film) menunjukkan korelasi yang relatif lemah dengan semua fitur numerik lainnya, dengan nilai korelasi tidak melebihi 0.37. Ini menyiratkan bahwa durasi film tidak terlalu berhubungan atau memiliki dampak signifikan terhadap popularitas, rata-rata vote, jumlah vote, atau pendapatan film dalam dataset ini."
      ],
      "metadata": {
        "id": "yPAtSvCUnweG"
      }
    },
    {
      "cell_type": "markdown",
      "source": [
        "# Data Preprocessing"
      ],
      "metadata": {
        "id": "UPO1Z7wJZgIm"
      }
    },
    {
      "cell_type": "code",
      "source": [
        "# Ambil hanya kolom cast dan crew dari credits\n",
        "movies = movies.merge(credits[['movie_id', 'cast', 'crew']], left_on='id', right_on='movie_id')"
      ],
      "metadata": {
        "id": "omtKxm9XbAhG"
      },
      "execution_count": 18,
      "outputs": []
    },
    {
      "cell_type": "markdown",
      "source": [
        "- Kode ini melakukan operasi merge (penggabungan) antara dataframe movies dengan dataframe credits. Penggabungan ini dilakukan berdasarkan kolom id di movies dan movie_id di credits. Ini berarti data tentang aktor (cast) dan kru (crew) dari dataframe credits akan ditambahkan ke setiap baris film yang sesuai di dataframe movies."
      ],
      "metadata": {
        "id": "kzVUDEoPpVjf"
      }
    },
    {
      "cell_type": "code",
      "source": [
        "movies.columns"
      ],
      "metadata": {
        "colab": {
          "base_uri": "https://localhost:8080/"
        },
        "id": "z7ypaDeqrVxA",
        "outputId": "2d70c33a-ea2b-40e9-96e1-f1fc851606bb"
      },
      "execution_count": 19,
      "outputs": [
        {
          "output_type": "execute_result",
          "data": {
            "text/plain": [
              "Index(['budget', 'genres', 'homepage', 'id', 'keywords', 'original_language',\n",
              "       'original_title', 'overview', 'popularity', 'production_companies',\n",
              "       'production_countries', 'release_date', 'revenue', 'runtime',\n",
              "       'spoken_languages', 'status', 'tagline', 'title', 'vote_average',\n",
              "       'vote_count', 'movie_id', 'cast', 'crew'],\n",
              "      dtype='object')"
            ]
          },
          "metadata": {},
          "execution_count": 19
        }
      ]
    },
    {
      "cell_type": "markdown",
      "source": [
        "- Menampilkan semua kolom yang ada pada dataframe 'movies'\n",
        "- kolom 'cast' dan 'crew' dari dataframe 'credits' telah berhasil digabung kedalam dataframe 'movies'"
      ],
      "metadata": {
        "id": "DMqUj-o1pbSO"
      }
    },
    {
      "cell_type": "code",
      "source": [
        "import ast\n",
        "\n",
        "# Fungsi bantu\n",
        "def extract_names(obj_str, key='name', max_items=5):\n",
        "    try:\n",
        "        obj_list = ast.literal_eval(obj_str)\n",
        "        return [obj[key].replace(\" \", \"\").lower() for obj in obj_list[:max_items]]\n",
        "    except:\n",
        "        return []\n",
        "\n",
        "def get_director(obj_str):\n",
        "    try:\n",
        "        crew_list = ast.literal_eval(obj_str)\n",
        "        for member in crew_list:\n",
        "            if member.get('job') == 'Director':\n",
        "                return member['name'].replace(\" \", \"\").lower()\n",
        "        return ''\n",
        "    except:\n",
        "        return ''\n",
        "\n",
        "# Apply ke kolom terkait\n",
        "movies['genres'] = movies['genres'].apply(lambda x: extract_names(x))\n",
        "movies['keywords'] = movies['keywords'].apply(lambda x: extract_names(x))\n",
        "movies['cast'] = movies['cast'].apply(lambda x: extract_names(x, max_items=3))\n",
        "movies['crew'] = movies['crew'].apply(get_director)\n",
        "\n",
        "# Pastikan overview bertipe string sebelum .lower()\n",
        "movies['overview'] = movies['overview'].astype(str)\n",
        "movies['overview'] = movies['overview'].apply(lambda x: x.lower().split())\n",
        "\n",
        "# Gabungkan ke kolom tags\n",
        "movies['tags'] = (\n",
        "    movies['overview'] +\n",
        "    movies['genres'] +\n",
        "    movies['keywords'] +\n",
        "    movies['cast'] +\n",
        "    movies['crew'].apply(lambda x: [x] if x else [])\n",
        ")\n",
        "\n",
        "# Ubah jadi string\n",
        "movies['tags'] = movies['tags'].apply(lambda x: \" \".join(x))\n",
        "\n",
        "# Ambil kolom penting\n",
        "processed_df = movies[['movie_id', 'title', 'tags']].rename(columns={'title': 'title'})\n",
        "\n",
        "# Cek hasil\n",
        "print(processed_df.head())\n"
      ],
      "metadata": {
        "colab": {
          "base_uri": "https://localhost:8080/"
        },
        "id": "rGtiyCQtrcH9",
        "outputId": "9ab6da73-bfce-454b-c92f-ad1718124903"
      },
      "execution_count": 26,
      "outputs": [
        {
          "output_type": "stream",
          "name": "stdout",
          "text": [
            "   movie_id                                     title  \\\n",
            "0     19995                                    Avatar   \n",
            "1       285  Pirates of the Caribbean: At World's End   \n",
            "2    206647                                   Spectre   \n",
            "3     49026                     The Dark Knight Rises   \n",
            "4     49529                               John Carter   \n",
            "\n",
            "                                                tags  \n",
            "0  ['in', 'the', '22nd', 'century,', 'a', 'parapl...  \n",
            "1  ['captain', 'barbossa,', 'long', 'believed', '...  \n",
            "2  ['a', 'cryptic', 'message', 'from', 'bond’s', ...  \n",
            "3  ['following', 'the', 'death', 'of', 'district'...  \n",
            "4  ['john', 'carter', 'is', 'a', 'war-weary,', 'f...  \n"
          ]
        }
      ]
    },
    {
      "cell_type": "markdown",
      "source": [
        "- Kode ini secara ekstensif melakukan pra-pemrosesan data tekstual dari beberapa kolom (genres, keywords, cast, crew, overview) dengan tujuan untuk menggabungkannya menjadi satu kolom tags. Proses ini melibatkan ekstraksi nama, normalisasi (mengubah ke huruf kecil, menghapus spasi), dan pembatasan jumlah item. Ini adalah langkah fundamental dalam membangun sistem rekomendasi atau pencarian yang berbasis konten, di mana \"tag\" akan menjadi representasi komprehensif dari setiap film.\n",
        "- Kode ini tidak hanya mengekstrak genre dan keywords, tetapi juga memiliki logika khusus untuk mengidentifikasi \"Director\" dari kolom crew dan membatasi jumlah aktor yang diekstraksi (max_items=3). Pendekatan ini menunjukkan pertimbangan bahwa peran sutradara sangat penting dalam identifikasi sebuah film, sementara hanya beberapa aktor utama yang mungkin paling relevan untuk tujuan penandaan (tagging) atau rekomendasi."
      ],
      "metadata": {
        "id": "mA_02YTSqfsD"
      }
    },
    {
      "cell_type": "markdown",
      "source": [
        "# Model development Content Based Filtering"
      ],
      "metadata": {
        "id": "yZYLfh2UzEBm"
      }
    },
    {
      "cell_type": "markdown",
      "source": [
        "### Vectorization"
      ],
      "metadata": {
        "id": "KBgKiM9etXQy"
      }
    },
    {
      "cell_type": "code",
      "source": [
        "from sklearn.feature_extraction.text import TfidfVectorizer\n",
        "\n",
        "# Batasi jumlah fitur agar ringan dan relevan\n",
        "tfidf = TfidfVectorizer(max_features=5000, stop_words='english')\n",
        "\n",
        "# Fit dan transform kolom 'tags'\n",
        "vectors = tfidf.fit_transform(processed_df['tags']).toarray()\n"
      ],
      "metadata": {
        "id": "EI2vHW5etWuV"
      },
      "execution_count": 28,
      "outputs": []
    },
    {
      "cell_type": "markdown",
      "source": [
        "- Kode ini menggunakan TfidfVectorizer untuk mengubah data tekstual dari kolom 'tags' menjadi representasi numerik (vektor). TF-IDF (Term Frequency-Inverse Document Frequency) adalah teknik umum yang memberikan bobot pada kata-kata berdasarkan seberapa sering mereka muncul dalam dokumen (film) dan seberapa jarang mereka muncul di seluruh korpus.\n",
        "- Penggunaan max_features=5000 dan stop_words='english' menunjukkan upaya untuk mengoptimalkan proses vektorisasi. max_features membatasi jumlah kata unik yang akan dipertimbangkan, mengurangi kompleksitas komputasi dan fokus pada kata-kata yang paling informatif. Sementara itu, stop_words='english' menghapus kata-kata umum (seperti \"the\", \"a\", \"is\") yang tidak memberikan banyak makna, sehingga meningkatkan relevansi fitur yang dihasilkan."
      ],
      "metadata": {
        "id": "rvyTEqXDqx1V"
      }
    },
    {
      "cell_type": "markdown",
      "source": [
        "### Cosine Similarity"
      ],
      "metadata": {
        "id": "SSo34BBJzLbm"
      }
    },
    {
      "cell_type": "code",
      "source": [
        "from sklearn.metrics.pairwise import cosine_similarity\n",
        "\n",
        "similarity = cosine_similarity(vectors)\n"
      ],
      "metadata": {
        "id": "_hYI4h0Otg6S"
      },
      "execution_count": 29,
      "outputs": []
    },
    {
      "cell_type": "markdown",
      "source": [
        "- Kode ini berfungsi untuk menghitung kesamaan kosinus (cosine similarity) antar semua pasangan vektor film. Kesamaan kosinus mengukur sudut antara dua vektor, di mana nilai mendekati 1 menunjukkan kemiripan tinggi (sudut kecil), dan nilai mendekati 0 menunjukkan tidak ada kemiripan (sudut mendekati 90 derajat). Dalam konteks sistem rekomendasi film, ini berarti film-film yang memiliki vektor \"tags\" yang mirip (berarti memiliki genre, kata kunci, aktor, dan sutradara yang serupa) akan memiliki skor kesamaan kosinus yang tinggi."
      ],
      "metadata": {
        "id": "i4H-eCGFrFdS"
      }
    },
    {
      "cell_type": "markdown",
      "source": [
        "### Fungsi Rekomendasi"
      ],
      "metadata": {
        "id": "Hj5RJJU9zP6n"
      }
    },
    {
      "cell_type": "code",
      "source": [
        "processed_df['genres'] = movies['genres']"
      ],
      "metadata": {
        "id": "wVXN98pMuIM7"
      },
      "execution_count": 30,
      "outputs": []
    },
    {
      "cell_type": "markdown",
      "source": [
        "- Baris kode processed_df['genres'] = movies['genres'] berfungsi untuk menyalin kolom genres dari dataframe movies ke dataframe processed_df. Artinya, informasi genre dari setiap film akan tersedia juga di dataframe yang sedang diproses lebih lanjut."
      ],
      "metadata": {
        "id": "G_016-rtrhUL"
      }
    },
    {
      "cell_type": "code",
      "source": [
        "def recommend(movie_title, top_n=5):\n",
        "    try:\n",
        "        idx = processed_df[processed_df['title'].str.lower() == movie_title.lower()].index[0]\n",
        "    except IndexError:\n",
        "        print(\"Film tidak ditemukan.\")\n",
        "        return\n",
        "\n",
        "    distances = list(enumerate(similarity[idx]))\n",
        "    sorted_movies = sorted(distances, key=lambda x: x[1], reverse=True)[1:top_n+1]\n",
        "\n",
        "    print(f\"\\nRekomendasi untuk '{processed_df.iloc[idx]['title']}':\")\n",
        "    for i, (movie_idx, score) in enumerate(sorted_movies, 1):\n",
        "        title = processed_df.iloc[movie_idx]['title']\n",
        "        genres = processed_df.iloc[movie_idx]['genres']\n",
        "        print(f\"{i}. {title} | Genre: {genres}\")\n"
      ],
      "metadata": {
        "id": "5LfzQLJRtm9i"
      },
      "execution_count": 45,
      "outputs": []
    },
    {
      "cell_type": "markdown",
      "source": [
        "- Kode ini menciptakan sebuah fungsi recommend yang memungkinkan pengguna untuk mendapatkan rekomendasi film berdasarkan judul film yang mereka masukkan.\n",
        "- Fungsi ini dilengkapi dengan penanganan IndexError jika judul film yang dimasukkan tidak ditemukan, memberikan feedback yang jelas kepada pengguna.\n",
        "- Selain itu, rekomendasi disajikan secara terurut dari yang paling mirip (kecuali film itu sendiri) hingga sejumlah top_n film yang diinginkan, lengkap dengan judul dan genre, memastikan hasil yang relevan dan informatif bagi pengguna."
      ],
      "metadata": {
        "id": "J3Fo7Gt5r3sG"
      }
    },
    {
      "cell_type": "code",
      "source": [
        "recommend(\"The Dark Knight Rises\")"
      ],
      "metadata": {
        "colab": {
          "base_uri": "https://localhost:8080/"
        },
        "id": "W5Ay72Putpd8",
        "outputId": "34f8facc-7123-4fc3-98e4-98528a1299d6"
      },
      "execution_count": 46,
      "outputs": [
        {
          "output_type": "stream",
          "name": "stdout",
          "text": [
            "\n",
            "Rekomendasi untuk 'The Dark Knight Rises':\n",
            "1. Batman Forever | Genre: ['action', 'crime', 'fantasy']\n",
            "2. The Dark Knight | Genre: ['drama', 'action', 'crime', 'thriller']\n",
            "3. Batman | Genre: ['fantasy', 'action']\n",
            "4. Batman Returns | Genre: ['action', 'fantasy']\n",
            "5. Slow Burn | Genre: ['mystery', 'crime', 'drama', 'thriller']\n"
          ]
        }
      ]
    },
    {
      "cell_type": "markdown",
      "source": [
        "- Output menunjukkan bahwa sistem rekomendasi berhasil mengidentifikasi film-film yang sangat relevan dengan \"The Dark Knight Rises\", seperti \"The Dark Knight\", \"Batman\", \"Batman Forever\", dan \"Batman Returns\". Ini mengindikasikan bahwa model kemiripan yang dibangun (menggunakan TF-IDF dan cosine similarity pada tag film) bekerja dengan baik dalam menangkap esensi genre, aktor, sutradara, dan kata kunci film, sehingga menghasilkan rekomendasi yang koheren.\n",
        "- Empat dari lima rekomendasi teratas adalah film Batman lainnya, menegaskan bahwa sistem sangat efektif dalam merekomendasikan bagian dari series yang sama atau film dengan tema dan genre yang sangat mirip. Kehadiran \"Slow Burn\" sebagai rekomendasi kelima, meskipun bukan bagian dari series Batman, menunjukkan bahwa ada kesamaan genre seperti 'mystery', 'crime', 'drama', dan 'thriller' yang juga dipertimbangkan oleh sistem."
      ],
      "metadata": {
        "id": "twBr4GpAsOh5"
      }
    },
    {
      "cell_type": "markdown",
      "source": [
        "# Evaluasi"
      ],
      "metadata": {
        "id": "HNsYIjnQMewh"
      }
    },
    {
      "cell_type": "code",
      "source": [
        "import matplotlib.pyplot as plt\n",
        "\n",
        "# Fungsi Precision@K\n",
        "def precision_at_k(input_title, k=5, overlap_threshold=5):\n",
        "    try:\n",
        "        input_idx = processed_df[processed_df['title'] == input_title].index[0]\n",
        "    except IndexError:\n",
        "        return f\"Film '{input_title}' tidak ditemukan.\"\n",
        "\n",
        "    input_tags = set(movies.iloc[input_idx]['tags'].split())\n",
        "    sim_scores = list(enumerate(similarity[input_idx]))\n",
        "    sim_scores = sorted(sim_scores, key=lambda x: x[1], reverse=True)[1:k+1]\n",
        "\n",
        "    matched = 0\n",
        "    for idx, _ in sim_scores:\n",
        "        compare_tags = set(movies.iloc[idx]['tags'].split())\n",
        "        overlap = input_tags.intersection(compare_tags)\n",
        "        if len(overlap) >= overlap_threshold:\n",
        "            matched += 1\n",
        "\n",
        "    precision = matched / k\n",
        "    return precision\n",
        "\n",
        "# Daftar film uji coba\n",
        "sample_titles = [\n",
        "    'The Dark Knight',\n",
        "    'Inception',\n",
        "    'The Avengers',\n",
        "    'Finding Nemo',\n",
        "    'American Psycho'\n",
        "]\n",
        "\n",
        "# Logging & simpan hasil\n",
        "results = {}\n",
        "\n",
        "print(\"📊 Simulasi Precision@5 (overlap threshold ≥ 5):\\n\")\n",
        "for title in sample_titles:\n",
        "    score = precision_at_k(title, k=5, overlap_threshold=5)\n",
        "    if isinstance(score, str):\n",
        "        print(f\"{title}: {score}\")\n",
        "    else:\n",
        "        print(f\"{title}: Precision@5 = {score:.2f}\")\n",
        "        results[title] = score\n",
        "\n",
        "# Visualisasi hasil\n",
        "plt.figure(figsize=(10, 6))\n",
        "plt.bar(results.keys(), results.values(), color='skyblue')\n",
        "plt.ylim(0, 1.05)\n",
        "plt.title(\"Precision@5 untuk Beberapa Film (CBF)\")\n",
        "plt.ylabel(\"Precision@5\")\n",
        "plt.xticks(rotation=20)\n",
        "plt.grid(axis='y', linestyle='--', alpha=0.5)\n",
        "plt.tight_layout()\n",
        "plt.show()\n"
      ],
      "metadata": {
        "colab": {
          "base_uri": "https://localhost:8080/",
          "height": 733
        },
        "id": "vd-TbutyKoSc",
        "outputId": "679cb331-37d4-4d9f-ca6e-d8d944924113"
      },
      "execution_count": 44,
      "outputs": [
        {
          "output_type": "stream",
          "name": "stdout",
          "text": [
            "📊 Simulasi Precision@5 (overlap threshold ≥ 5):\n",
            "\n",
            "The Dark Knight: Precision@5 = 1.00\n",
            "Inception: Precision@5 = 1.00\n",
            "The Avengers: Precision@5 = 1.00\n",
            "Finding Nemo: Precision@5 = 0.80\n",
            "American Psycho: Precision@5 = 0.40\n"
          ]
        },
        {
          "output_type": "display_data",
          "data": {
            "text/plain": [
              "<Figure size 1000x600 with 1 Axes>"
            ],
            "image/png": "[encoded data removed]"
          },
          "metadata": {}
        }
      ]
    },
    {
      "cell_type": "markdown",
      "source": [
        "- Kode ini mengimplementasikan metrik **precision@k** untuk mengevaluasi seberapa akurat sistem rekomendasi. Metrik ini mengukur proporsi rekomendasi yang relevan (didefinisikan berdasarkan overlap tag di atas ambang batas overlap_threshold) di antara k rekomendasi teratas.\n",
        "- Relevansi rekomendasi didefinisikan secara heuristik melalui jumlah overlap kata kunci/tag antara film input dan film yang direkomendasikan. Dengan overlap_threshold=5, sebuah film dianggap relevan jika memiliki setidaknya 5 tag yang sama dengan film yang menjadi masukan.\n",
        "- Grafik menunjukkan bahwa sistem rekomendasi mencapai Precision@5 sebesar 1.0 (sempurna) untuk film-film seperti \"The Dark Knight\", \"Inception\", dan \"The Avengers\". Ini mengindikasikan bahwa untuk film-film dengan basis data \"tags\" yang kaya dan mungkin sangat spesifik atau genre yang jelas, model mampu merekomendasikan 5 film lain yang sangat relevan sesuai dengan kriteria overlap tag.\n",
        "- Film animasi (\"Finding Nemo\") mungkin memiliki tag yang lebih terbatas atau berbeda dari film live-action.\n",
        "- Film seperti \"American Psycho\" yang mungkin memiliki genre atau tema yang lebih niche atau unik, sehingga lebih sulit menemukan 5 film lain dengan overlap tag yang tinggi."
      ],
      "metadata": {
        "id": "OIoH7j3hs8od"
      }
    }
  ]
}